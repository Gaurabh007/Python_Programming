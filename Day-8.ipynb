{
 "cells": [
  {
   "attachments": {},
   "cell_type": "markdown",
   "metadata": {},
   "source": [
    "## **Object Oriented Programming**\n",
    "1. Class - Class is the blueprint of a real world object. (eg Car,Human,..)\n",
    "* A Class can have multiple objects.\n",
    "* `class` keyword is used to define a Class. \n",
    "* Syntax:\n",
    ">                                  class class-name:\n",
    ">                                       <statement-1>\n",
    ">                                       <statement-2>\n",
    ">                                       .\n",
    ">                                       .   \n",
    ">                                       <statement-N>\n",
    "\n",
    "* Variable defined within a class is *class variable* and function defined is called *class methods*. They both together are called *class members*.\n",
    "\n",
    "2. Objects - Objects are instance or variable of the class.\n",
    "* Once the class is created the next job is to create objects of that class.\n",
    "* These are every entity which are manufactured through the class.\n",
    "* The object are created to access the class members using the *dot operator `(.)`*.\n",
    "* *Syntax for creating an object:* \n",
    ">                                   object_name = class_name()\n",
    "* *Syntax for accessing the method of the class:* \n",
    ">                                 object_name.class_member_name\n",
    "\n",
    "***In Python, everything is an object or instance of a class.***"
   ]
  },
  {
   "cell_type": "code",
   "execution_count": 11,
   "metadata": {},
   "outputs": [],
   "source": [
    "class first:                    #here 'first' is a class\n",
    "    pass"
   ]
  },
  {
   "cell_type": "code",
   "execution_count": 12,
   "metadata": {},
   "outputs": [
    {
     "name": "stdout",
     "output_type": "stream",
     "text": [
      "<class '__main__.first'>\n"
     ]
    }
   ],
   "source": [
    "a = first()     # Creating a object of the class 'first'\n",
    "print(type(a))"
   ]
  },
  {
   "attachments": {},
   "cell_type": "markdown",
   "metadata": {},
   "source": [
    "3. Methods - \n",
    "* These methods are exactly same as the normal function.\n",
    "* The only difference is that class method must have the first argument as `self`. We don't have to pass a value for this parameter when the method is called.\n",
    "* The `self` refer the object itself that has called the method.\n",
    "* When the objects of that class is created we can access the class member.\n",
    "* These are block of code through which we can assign behaviour to the class.\n",
    "* Syntax:\n",
    ">                                   def method-name():\n",
    ">                                       <statement-1>\n",
    ">                                       <statement-2>\n",
    ">                                       .\n",
    ">                                       .   \n",
    ">                                       <statement-N>\n"
   ]
  },
  {
   "cell_type": "code",
   "execution_count": 8,
   "metadata": {},
   "outputs": [],
   "source": [
    "# When we are declaring a function inside a class we should give a pointer or reference so that the class will be able to bind that particular method.\n",
    "\n",
    "\n",
    "class welcome:              # Class \n",
    "    def msg(self):          # Method with self argument\n",
    "        print(\"Welcome to Data Science Course\")"
   ]
  },
  {
   "cell_type": "code",
   "execution_count": 13,
   "metadata": {},
   "outputs": [
    {
     "name": "stdout",
     "output_type": "stream",
     "text": [
      "Welcome to Data Science Course\n"
     ]
    }
   ],
   "source": [
    "Virat = welcome()           # creating object of that class\n",
    "Virat.msg()                 # with the help of object the method is called"
   ]
  },
  {
   "cell_type": "code",
   "execution_count": 14,
   "metadata": {},
   "outputs": [
    {
     "name": "stdout",
     "output_type": "stream",
     "text": [
      "Welcome to Data Science Course\n"
     ]
    }
   ],
   "source": [
    "Sachin = welcome()\n",
    "Sachin.msg()"
   ]
  },
  {
   "attachments": {},
   "cell_type": "markdown",
   "metadata": {},
   "source": [
    "4. Constructor - \n",
    "* A Constructor is created when a object is created of that class. \n",
    "* It initilizes all the variable so that it can be used by the object."
   ]
  },
  {
   "cell_type": "code",
   "execution_count": 19,
   "metadata": {},
   "outputs": [],
   "source": [
    "class Course:\n",
    "    def __init__(self, std_id, phone_no, email_id):  # (inbuilt method/ Constructor) It initilizes the data member of class\n",
    "        self.std_id = std_id\n",
    "        self.phone_no = phone_no\n",
    "        self.email_id = email_id\n",
    "\n",
    "    def return_std_details(self):\n",
    "        return self.std_id, self.phone_no, self.email_id\n"
   ]
  },
  {
   "cell_type": "code",
   "execution_count": 21,
   "metadata": {},
   "outputs": [],
   "source": [
    "harsh = Course(101,8746843187,'harsh@gmail.com')"
   ]
  },
  {
   "cell_type": "code",
   "execution_count": 24,
   "metadata": {},
   "outputs": [
    {
     "data": {
      "text/plain": [
       "'harsh@gmail.com'"
      ]
     },
     "execution_count": 24,
     "metadata": {},
     "output_type": "execute_result"
    }
   ],
   "source": [
    "harsh.email_id"
   ]
  },
  {
   "cell_type": "code",
   "execution_count": 22,
   "metadata": {},
   "outputs": [
    {
     "data": {
      "text/plain": [
       "8746843187"
      ]
     },
     "execution_count": 22,
     "metadata": {},
     "output_type": "execute_result"
    }
   ],
   "source": [
    "harsh.phone_no"
   ]
  },
  {
   "cell_type": "code",
   "execution_count": 26,
   "metadata": {},
   "outputs": [
    {
     "data": {
      "text/plain": [
       "(101, 8746843187, 'harsh@gmail.com')"
      ]
     },
     "execution_count": 26,
     "metadata": {},
     "output_type": "execute_result"
    }
   ],
   "source": [
    "harsh.return_std_details()"
   ]
  },
  {
   "cell_type": "code",
   "execution_count": 44,
   "metadata": {},
   "outputs": [
    {
     "name": "stdout",
     "output_type": "stream",
     "text": [
      "Gaurabh is working as Data Scientist in our company.\n",
      "Harry is working as Software Developer in our company.\n"
     ]
    },
    {
     "data": {
      "text/plain": [
       "'Harry'"
      ]
     },
     "execution_count": 44,
     "metadata": {},
     "output_type": "execute_result"
    }
   ],
   "source": [
    "class Person:\n",
    "    def __init__(self,name,occupation):\n",
    "        self.name = name\n",
    "        self.occupation = occupation\n",
    "    \n",
    "    def display(self):\n",
    "        print(f\"{self.name} is working as {self.occupation} in our company.\")\n",
    "\n",
    "ob1 = Person('Gaurabh','Data Scientist')     # we have to pass the parameter as we have mentioned in the class.\n",
    "ob2 = Person('Harry','Software Developer')\n",
    "ob1.display()                   # Acessing the Class Methods\n",
    "ob2.display()\n",
    "\n",
    "ob2.name                        #Accessing Class Variable\n"
   ]
  }
 ],
 "metadata": {
  "kernelspec": {
   "display_name": "Python 3",
   "language": "python",
   "name": "python3"
  },
  "language_info": {
   "codemirror_mode": {
    "name": "ipython",
    "version": 3
   },
   "file_extension": ".py",
   "mimetype": "text/x-python",
   "name": "python",
   "nbconvert_exporter": "python",
   "pygments_lexer": "ipython3",
   "version": "3.11.2"
  },
  "orig_nbformat": 4,
  "vscode": {
   "interpreter": {
    "hash": "bf2765f521931e2f19f12976575e4735ff3b02b38699a1c8a104e77ac4d978bc"
   }
  }
 },
 "nbformat": 4,
 "nbformat_minor": 2
}

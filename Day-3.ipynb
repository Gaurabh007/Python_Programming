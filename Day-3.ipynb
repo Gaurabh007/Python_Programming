{
 "cells": [
  {
   "attachments": {},
   "cell_type": "markdown",
   "metadata": {},
   "source": [
    "## **3. Operator in Python:**\n",
    "* Logical\n",
    "* Equality\n",
    "* Comparison\n",
    "* Bitwise\n",
    "* Arithmetic\n",
    "\n"
   ]
  },
  {
   "attachments": {},
   "cell_type": "markdown",
   "metadata": {},
   "source": [
    "#### **3.1 Logical Operator**\n",
    "\n",
    "|Keyword | Meaning|\n",
    "|:-:|:-:|\n",
    "| **`not`** | unary negation|\n",
    "| **`and`** | Conditional AND|\n",
    "| **`or`** | Conditional OR|\n"
   ]
  },
  {
   "attachments": {},
   "cell_type": "markdown",
   "metadata": {},
   "source": [
    "1. `not` Operation: It's an unary operator, that acts upon a single operand and returns the opposite value of that operand\n",
    "* It basically implements negation in Python.\n",
    "* **The `not` keyword only returns a boolean datatype.**"
   ]
  },
  {
   "cell_type": "code",
   "execution_count": 26,
   "metadata": {},
   "outputs": [
    {
     "data": {
      "text/plain": [
       "False"
      ]
     },
     "execution_count": 26,
     "metadata": {},
     "output_type": "execute_result"
    }
   ],
   "source": [
    "not True"
   ]
  },
  {
   "cell_type": "code",
   "execution_count": 27,
   "metadata": {},
   "outputs": [
    {
     "data": {
      "text/plain": [
       "True"
      ]
     },
     "execution_count": 27,
     "metadata": {},
     "output_type": "execute_result"
    }
   ],
   "source": [
    "not (True) * False"
   ]
  },
  {
   "cell_type": "code",
   "execution_count": 28,
   "metadata": {},
   "outputs": [
    {
     "data": {
      "text/plain": [
       "True"
      ]
     },
     "execution_count": 28,
     "metadata": {},
     "output_type": "execute_result"
    }
   ],
   "source": [
    "not False"
   ]
  },
  {
   "cell_type": "code",
   "execution_count": 29,
   "metadata": {},
   "outputs": [
    {
     "name": "stdout",
     "output_type": "stream",
     "text": [
      "Value of a: True\n",
      "Value of b: False \n",
      "\n",
      "Value of a: True\n",
      "Value of a with negation: False \n",
      "\n",
      "Value of b: False\n",
      "Value of b with negation: True\n"
     ]
    }
   ],
   "source": [
    "a=True\n",
    "b=False\n",
    "# Printing the value as it is\n",
    "print(f\"Value of a: {a}\")\n",
    "print(f\"Value of b: {b} \\n\")\n",
    "\n",
    "print(f\"Value of a: {a}\")\n",
    "print(f\"Value of a with negation: {not a} \\n\")\n",
    "\n",
    "print(f\"Value of b: {b}\")\n",
    "print(f\"Value of b with negation: {not b}\")\n",
    "\n"
   ]
  },
  {
   "cell_type": "code",
   "execution_count": 30,
   "metadata": {},
   "outputs": [
    {
     "name": "stdout",
     "output_type": "stream",
     "text": [
      "Value of a: 1\n",
      "Value of b: 0 \n",
      "\n",
      "Value of a: 1\n",
      "Value of a with negation: 0 \n",
      "\n",
      "Value of b: 0\n",
      "Value of b with negation: 1\n"
     ]
    }
   ],
   "source": [
    "# Despite the negation of boolean expression, Python object can also be negated.\n",
    "\n",
    "a=1\n",
    "b=0\n",
    "\n",
    "# Printing the value as it is\n",
    "print(f\"Value of a: {a}\")\n",
    "print(f\"Value of b: {b} \\n\")\n",
    "\n",
    "print(f\"Value of a: {a}\")\n",
    "print(f\"Value of a with negation: {int(not a)} \\n\")\n",
    "\n",
    "print(f\"Value of b: {b}\")\n",
    "print(f\"Value of b with negation: {int(not b)}\")"
   ]
  },
  {
   "attachments": {},
   "cell_type": "markdown",
   "metadata": {},
   "source": [
    "2. `and` Operation: It is similar to the AND operation in logic gates.\n",
    "Given Below table represent the AND operation-\n",
    "\n",
    "|A|B|C|\n",
    "|:-:|:-:|:-:|\n",
    "|0|0|0|\n",
    "|0|1|0|\n",
    "|1|0|0|\n",
    "|1|1|1|"
   ]
  },
  {
   "cell_type": "code",
   "execution_count": 31,
   "metadata": {},
   "outputs": [
    {
     "name": "stdout",
     "output_type": "stream",
     "text": [
      "According to AND Operation:\n",
      "\n",
      "0 AND 1 : 0\n",
      "1 AND 1 : 1\n"
     ]
    }
   ],
   "source": [
    "A = 0\n",
    "B = 1\n",
    "print(\"According to AND Operation:\\n\")\n",
    "print(f\"{A} AND {B} : {A and B}\")\n",
    "\n",
    "A = 1\n",
    "B = 1\n",
    "print(f\"{A} AND {B} : {A and B}\")\n"
   ]
  },
  {
   "attachments": {},
   "cell_type": "markdown",
   "metadata": {},
   "source": [
    "3. `or` Operation: It is similar to the OR operation in logic gates.\n",
    "Given Below table represent the OR operation-\n",
    "\n",
    "|A|B|C|\n",
    "|-|-|-|\n",
    "|0|0|0|\n",
    "|0|1|1|\n",
    "|1|0|1|\n",
    "|1|1|1|"
   ]
  },
  {
   "cell_type": "code",
   "execution_count": 32,
   "metadata": {},
   "outputs": [
    {
     "name": "stdout",
     "output_type": "stream",
     "text": [
      "You have i6 processor: True\n",
      "You have i9 processor: True\n",
      "Your can Play GTA 5: True\n"
     ]
    }
   ],
   "source": [
    "i_6 = True\n",
    "i_9 = True\n",
    "\n",
    "print(f\"You have i6 processor: {i_6}\")\n",
    "print(f\"You have i9 processor: {i_9}\")\n",
    "print(f\"Your can Play GTA 5: {i_6 or i_9}\")"
   ]
  },
  {
   "cell_type": "code",
   "execution_count": 33,
   "metadata": {},
   "outputs": [
    {
     "name": "stdout",
     "output_type": "stream",
     "text": [
      "You have i6 processor: False\n",
      "You have i9 processor: True\n",
      "Your can Play GTA 5: True\n"
     ]
    }
   ],
   "source": [
    "i_3 = False\n",
    "i_9 = True\n",
    "\n",
    "print(f\"You have i6 processor: {i_3}\")\n",
    "print(f\"You have i9 processor: {i_9}\")\n",
    "print(f\"Your can Play GTA 5: {i_3 or i_9}\")"
   ]
  },
  {
   "cell_type": "code",
   "execution_count": 34,
   "metadata": {},
   "outputs": [
    {
     "name": "stdout",
     "output_type": "stream",
     "text": [
      "You have i6 processor: False\n",
      "You have i9 processor: False\n",
      "Your can Play GTA 5: False\n"
     ]
    }
   ],
   "source": [
    "i_3 = False\n",
    "i_9 = False\n",
    "\n",
    "print(f\"You have i6 processor: {i_3}\")\n",
    "print(f\"You have i9 processor: {i_9}\")\n",
    "print(f\"Your can Play GTA 5: {i_3 or i_9}\")"
   ]
  },
  {
   "attachments": {},
   "cell_type": "markdown",
   "metadata": {},
   "source": [
    "#### **3.2 Equality Operator**\n",
    "\n",
    "|Operator |Meaning |\n",
    "|:-:|:-:|\n",
    "|**is**|It returns True when both variable/identifers points to the same object|\n",
    "|**is not**|It returns True when both variable/identifers points to different object|\n",
    "|**==**|It returns True if any two variable have same value|\n",
    "|**!=**|It returns True if any two variable have different value|\n"
   ]
  },
  {
   "cell_type": "code",
   "execution_count": 35,
   "metadata": {},
   "outputs": [
    {
     "name": "stdout",
     "output_type": "stream",
     "text": [
      "id of l1: 2431420236672\n",
      "id of l2: 2431420058432\n",
      "l1 is l2: False\n"
     ]
    }
   ],
   "source": [
    "# is operator \n",
    "l1 = [1,2,3]\n",
    "l2 = [1,2,3]\n",
    "\n",
    "print(f\"id of l1: {id(l1)}\")\n",
    "print(f\"id of l2: {id(l2)}\")\n",
    "\n",
    "print(f\"l1 is l2: {l1 is l2}\")      #it checks the memory location of l1 and l2."
   ]
  },
  {
   "cell_type": "code",
   "execution_count": 36,
   "metadata": {},
   "outputs": [
    {
     "name": "stdout",
     "output_type": "stream",
     "text": [
      "id of l3: 2431420236672\n",
      "l1 is l3: True\n"
     ]
    }
   ],
   "source": [
    "l3 = l1\n",
    "print(f\"id of l3: {id(l3)}\")\n",
    "print(f\"l1 is l3: {l3 is l3}\")"
   ]
  },
  {
   "cell_type": "code",
   "execution_count": 37,
   "metadata": {},
   "outputs": [
    {
     "name": "stdout",
     "output_type": "stream",
     "text": [
      "2431311937808\n",
      "2431311937808\n"
     ]
    }
   ],
   "source": [
    "\n",
    "a=2\n",
    "n=2\n",
    "print(id(a))\n",
    "print(id(n))        #both a and n will be refering to the same thing thatswhy the id is same for both of them."
   ]
  },
  {
   "cell_type": "code",
   "execution_count": 38,
   "metadata": {},
   "outputs": [
    {
     "name": "stdout",
     "output_type": "stream",
     "text": [
      "a is not b: True\n"
     ]
    }
   ],
   "source": [
    "# is not operator\n",
    "a=12\n",
    "b=59\n",
    "print(f\"a is not b: {a is not b}\")  #it checks the memory location of a and b."
   ]
  },
  {
   "cell_type": "code",
   "execution_count": 39,
   "metadata": {},
   "outputs": [
    {
     "name": "stdout",
     "output_type": "stream",
     "text": [
      "str1 == str3: True\n",
      "str2 == str3: False\n"
     ]
    }
   ],
   "source": [
    "# == operator\n",
    "str1 = \"Hello\"\n",
    "str2 = \"World\"\n",
    "str3 = \"Hello\"\n",
    "\n",
    "print(f'str1 == str3: {str1 == str3}')     #it compares the value of str1 and str3 not the memory location\n",
    "print(f'str2 == str3: {str2 == str3}')"
   ]
  },
  {
   "cell_type": "code",
   "execution_count": 40,
   "metadata": {},
   "outputs": [
    {
     "name": "stdout",
     "output_type": "stream",
     "text": [
      "n != m: True\n",
      "str1 != str2: True\n"
     ]
    }
   ],
   "source": [
    "#  != operator\n",
    "n = 717\n",
    "m = 787\n",
    "print(f'n != m: {n != m}')      #it checks for the value of both the variable\n",
    "print(f'str1 != str2: {str1 != str2}')\n"
   ]
  },
  {
   "attachments": {},
   "cell_type": "markdown",
   "metadata": {},
   "source": [
    "#### **3.3 Comparision Operator**"
   ]
  },
  {
   "attachments": {},
   "cell_type": "markdown",
   "metadata": {},
   "source": [
    "|Operation|Meaning|\n",
    "|:-:|:-:|\n",
    "| **<** |less than|\n",
    "| **<=** |less than or equal to|\n",
    "| **>** |greater than|\n",
    "| **>=** |greater than or equal to\n",
    "\n",
    "These operator return a boolean value (True or False)"
   ]
  },
  {
   "cell_type": "code",
   "execution_count": 41,
   "metadata": {},
   "outputs": [
    {
     "data": {
      "text/plain": [
       "False"
      ]
     },
     "execution_count": 41,
     "metadata": {},
     "output_type": "execute_result"
    }
   ],
   "source": [
    "2 > 5\n"
   ]
  },
  {
   "cell_type": "code",
   "execution_count": 42,
   "metadata": {},
   "outputs": [
    {
     "data": {
      "text/plain": [
       "True"
      ]
     },
     "execution_count": 42,
     "metadata": {},
     "output_type": "execute_result"
    }
   ],
   "source": [
    "2 >= 2\n"
   ]
  },
  {
   "cell_type": "code",
   "execution_count": 43,
   "metadata": {},
   "outputs": [
    {
     "data": {
      "text/plain": [
       "True"
      ]
     },
     "execution_count": 43,
     "metadata": {},
     "output_type": "execute_result"
    }
   ],
   "source": [
    "59 < 79\n"
   ]
  },
  {
   "cell_type": "code",
   "execution_count": 44,
   "metadata": {},
   "outputs": [
    {
     "data": {
      "text/plain": [
       "True"
      ]
     },
     "execution_count": 44,
     "metadata": {},
     "output_type": "execute_result"
    }
   ],
   "source": [
    "59 <= 60\n"
   ]
  },
  {
   "attachments": {},
   "cell_type": "markdown",
   "metadata": {},
   "source": [
    "#### **3.4 Arithmetic Operator**"
   ]
  },
  {
   "attachments": {},
   "cell_type": "markdown",
   "metadata": {},
   "source": [
    "|Operation|Meaning|\n",
    "|:-:|:-:|\n",
    "| **+** |addition|\n",
    "| **-** |subtraction|\n",
    "| **\\*** |multiplication|\n",
    "| **/** |true division|\n",
    "| **//** |integer division|\n",
    "| **%** |the modulo operator"
   ]
  },
  {
   "cell_type": "code",
   "execution_count": 168,
   "metadata": {},
   "outputs": [
    {
     "data": {
      "text/plain": [
       "9"
      ]
     },
     "execution_count": 168,
     "metadata": {},
     "output_type": "execute_result"
    }
   ],
   "source": [
    "5+4  # Addition\n"
   ]
  },
  {
   "cell_type": "code",
   "execution_count": 167,
   "metadata": {},
   "outputs": [
    {
     "data": {
      "text/plain": [
       "8100"
      ]
     },
     "execution_count": 167,
     "metadata": {},
     "output_type": "execute_result"
    }
   ],
   "source": [
    "8165-65  # normal substraction\n"
   ]
  },
  {
   "cell_type": "code",
   "execution_count": 169,
   "metadata": {},
   "outputs": [
    {
     "data": {
      "text/plain": [
       "63"
      ]
     },
     "execution_count": 169,
     "metadata": {},
     "output_type": "execute_result"
    }
   ],
   "source": [
    "7*9         #multiplication"
   ]
  },
  {
   "cell_type": "code",
   "execution_count": 173,
   "metadata": {},
   "outputs": [
    {
     "name": "stdout",
     "output_type": "stream",
     "text": [
      "5.0\n",
      "<class 'float'>\n"
     ]
    }
   ],
   "source": [
    "c = 25/5  # normal division, it returns the float value\n",
    "print(c)\n",
    "print(type(c))\n"
   ]
  },
  {
   "cell_type": "code",
   "execution_count": 175,
   "metadata": {},
   "outputs": [
    {
     "name": "stdout",
     "output_type": "stream",
     "text": [
      "5\n",
      "<class 'int'>\n"
     ]
    }
   ],
   "source": [
    "d = 25//5  # normal division , it only return the integer value\n",
    "print(d)\n",
    "print(type(d))\n"
   ]
  },
  {
   "cell_type": "code",
   "execution_count": 177,
   "metadata": {},
   "outputs": [
    {
     "name": "stdout",
     "output_type": "stream",
     "text": [
      "3\n"
     ]
    }
   ],
   "source": [
    "r = 19 % 8      #it simply return the remiander of the division\n",
    "print(r)\n"
   ]
  },
  {
   "attachments": {},
   "cell_type": "markdown",
   "metadata": {},
   "source": [
    "#### **3.5 Bitwise Operator**"
   ]
  },
  {
   "attachments": {},
   "cell_type": "markdown",
   "metadata": {},
   "source": [
    "|Operation|Meaning|\n",
    "|:-:|:-:|\n",
    "| **∼** |bitwise complement (prefix unary operator)|\n",
    "| **&** |bitwise and|\n",
    "| **\\|** |bitwise or|\n",
    "| **^** |bitwise exclusive-or|\n",
    "| **<<** |shift bits left, filling in with zeros|\n",
    "| **>>** |shift bits right, filling in with sign bit"
   ]
  },
  {
   "cell_type": "code",
   "execution_count": 184,
   "metadata": {},
   "outputs": [
    {
     "name": "stdout",
     "output_type": "stream",
     "text": [
      "Compliment of a: -11\n",
      "-0b1011\n"
     ]
    }
   ],
   "source": [
    "a=10            #10 -> 1010 (10 in binary)\n",
    "c_a = ~a        #1010 -> 1011 (bitwise complement)\n",
    "b_c_a = bin(c_a)\n",
    "print(f\"Compliment of a: {c_a}\")\n",
    "print(b_c_a)\n"
   ]
  },
  {
   "cell_type": "code",
   "execution_count": 188,
   "metadata": {},
   "outputs": [
    {
     "name": "stdout",
     "output_type": "stream",
     "text": [
      "Bitwise `and`: 2\n"
     ]
    }
   ],
   "source": [
    "var_a = 10\n",
    "var_b = 6\n",
    "\n",
    "bitwise_and = var_a & var_b\n",
    "print(f\"Bitwise `and`: {bitwise_and}\")"
   ]
  },
  {
   "cell_type": "code",
   "execution_count": 189,
   "metadata": {},
   "outputs": [
    {
     "name": "stdout",
     "output_type": "stream",
     "text": [
      "Bitwise `or`: 14\n"
     ]
    }
   ],
   "source": [
    "var_m = 6\n",
    "var_n = 2\n",
    "\n",
    "bitwise_or = var_a | var_b\n",
    "print(f\"Bitwise `or`: {bitwise_or}\")"
   ]
  },
  {
   "cell_type": "code",
   "execution_count": 191,
   "metadata": {},
   "outputs": [
    {
     "name": "stdout",
     "output_type": "stream",
     "text": [
      "bitwise_xor: 14\n"
     ]
    }
   ],
   "source": [
    "var_a = 10\n",
    "var_b = 4\n",
    "\n",
    "bitwise_xor = var_a ^ var_b\n",
    "print(f\"bitwise_xor: {bitwise_xor}\")"
   ]
  },
  {
   "cell_type": "code",
   "execution_count": 195,
   "metadata": {},
   "outputs": [
    {
     "name": "stdout",
     "output_type": "stream",
     "text": [
      "var_r: 22\n",
      "binary of var_r: 0b10110\n",
      "right_shift: 11\n",
      "binary_right_shift: 0b1011\n"
     ]
    }
   ],
   "source": [
    "var_r = 22\n",
    "\n",
    "binary_r = bin(var_r)\n",
    "\n",
    "right_shift = var_r >> 1\n",
    "binary_right_shift = bin(right_shift)\n",
    "\n",
    "print(f\"var_r: {var_r}\")\n",
    "print(f\"binary of var_r: {binary_r}\")\n",
    "\n",
    "print(f\"right_shift: {right_shift}\")\n",
    "print(f\"binary_right_shift: {binary_right_shift}\")"
   ]
  },
  {
   "cell_type": "code",
   "execution_count": 199,
   "metadata": {},
   "outputs": [
    {
     "name": "stdout",
     "output_type": "stream",
     "text": [
      "var_l: 11\n",
      "binary of var_l: 0b1011\n",
      "left_shift: 22\n",
      "binary_left_shift: 0b10110\n"
     ]
    }
   ],
   "source": [
    "var_l = 11\n",
    "\n",
    "binary_l = bin(var_l)\n",
    "\n",
    "left_shift = var_l << 1\n",
    "binary_left_shift = bin(left_shift)\n",
    "\n",
    "print(f\"var_l: {var_l}\")\n",
    "print(f\"binary of var_l: {binary_l}\")\n",
    "\n",
    "print(f\"left_shift: {right_shift}\")\n",
    "print(f\"binary_left_shift: {binary_right_shift}\")"
   ]
  },
  {
   "attachments": {},
   "cell_type": "markdown",
   "metadata": {},
   "source": [
    "## **Strings**\n",
    "* Strings are sequence of characters in a specific order which means python tracks each and every element in the String.\n",
    "* It uses indexing technique to grab particular letters.\n",
    "* We can access subset of string with the help of slice operator `[]`.\n",
    "* Strings are immutable"
   ]
  },
  {
   "cell_type": "code",
   "execution_count": 45,
   "metadata": {},
   "outputs": [
    {
     "name": "stdout",
     "output_type": "stream",
     "text": [
      "Welcome\n",
      "<class 'str'>\n"
     ]
    }
   ],
   "source": [
    "str1 = \"Welcome\"\n",
    "print(str1)\n",
    "print(type(str1))"
   ]
  },
  {
   "cell_type": "code",
   "execution_count": 46,
   "metadata": {},
   "outputs": [
    {
     "data": {
      "text/plain": [
       "'Python'"
      ]
     },
     "execution_count": 46,
     "metadata": {},
     "output_type": "execute_result"
    }
   ],
   "source": [
    "'Python'"
   ]
  },
  {
   "attachments": {},
   "cell_type": "markdown",
   "metadata": {},
   "source": [
    "#### Accessing element from string:\n",
    "* We use `[]` bracket to access the index.\n",
    "* this `[]` has three part:\n",
    "> 1. [starting index : :]\n",
    "> 2. [starting index : ending index :]\n",
    "> 3. [starting index : ending index : step/jump]\n",
    "\n",
    "* Indexing Starts from 0 in Python\n",
    "\n",
    "Examples:-"
   ]
  },
  {
   "cell_type": "code",
   "execution_count": 47,
   "metadata": {},
   "outputs": [],
   "source": [
    "str=\"Data Science\""
   ]
  },
  {
   "cell_type": "code",
   "execution_count": 48,
   "metadata": {},
   "outputs": [
    {
     "name": "stdout",
     "output_type": "stream",
     "text": [
      "D\n"
     ]
    }
   ],
   "source": [
    "print(str[0])   #accessing the first element"
   ]
  },
  {
   "cell_type": "code",
   "execution_count": 49,
   "metadata": {},
   "outputs": [
    {
     "name": "stdout",
     "output_type": "stream",
     "text": [
      "e\n"
     ]
    }
   ],
   "source": [
    "print(str[-1])  #accessing the last element"
   ]
  },
  {
   "cell_type": "code",
   "execution_count": 50,
   "metadata": {},
   "outputs": [
    {
     "ename": "IndexError",
     "evalue": "string index out of range",
     "output_type": "error",
     "traceback": [
      "\u001b[1;31m---------------------------------------------------------------------------\u001b[0m",
      "\u001b[1;31mIndexError\u001b[0m                                Traceback (most recent call last)",
      "\u001b[1;32md:\\VS Code\\PWSKILLS\\Python Programming\\Day-3.ipynb Cell 47\u001b[0m in \u001b[0;36m<cell line: 1>\u001b[1;34m()\u001b[0m\n\u001b[1;32m----> <a href='vscode-notebook-cell:/d%3A/VS%20Code/PWSKILLS/Python%20Programming/Day-3.ipynb#X64sZmlsZQ%3D%3D?line=0'>1</a>\u001b[0m \u001b[39mprint\u001b[39m(\u001b[39mstr\u001b[39;49m[\u001b[39m16\u001b[39;49m])\n",
      "\u001b[1;31mIndexError\u001b[0m: string index out of range"
     ]
    }
   ],
   "source": [
    "print(str[16])  #It show error because we give index out of range."
   ]
  },
  {
   "cell_type": "code",
   "execution_count": 51,
   "metadata": {},
   "outputs": [
    {
     "name": "stdout",
     "output_type": "stream",
     "text": [
      "ata S\n"
     ]
    }
   ],
   "source": [
    "# Printing the substring form the string\n",
    "# Before the color its the starting index and after the color its the ending index.\n",
    "print(str[1:6])\n",
    "# NOTE:- The substring is printed till the (end index - 1).In the above line, the substring will be printed from index 1 to 5 (end - 1)."
   ]
  },
  {
   "attachments": {},
   "cell_type": "markdown",
   "metadata": {},
   "source": [
    "#### Indexing Pattern in String-\n",
    "\n",
    "\n",
    "                                        0   1   2   3   4   5   (Indexing from beginning)\n",
    "                                        \n",
    "                                        P   Y   T   H   O   N   \n",
    "\n",
    "                                        -6  -5  -4  -3  -2  -1      (Indexing from end)"
   ]
  },
  {
   "cell_type": "code",
   "execution_count": 52,
   "metadata": {},
   "outputs": [
    {
     "name": "stdout",
     "output_type": "stream",
     "text": [
      "Pytho\n"
     ]
    }
   ],
   "source": [
    "s='Python'\n",
    "print(s[-6:-1])"
   ]
  },
  {
   "cell_type": "code",
   "execution_count": 53,
   "metadata": {},
   "outputs": [
    {
     "name": "stdout",
     "output_type": "stream",
     "text": [
      "Python\n"
     ]
    }
   ],
   "source": [
    "print(s[-6:])   #printing the string from the end"
   ]
  },
  {
   "cell_type": "code",
   "execution_count": 54,
   "metadata": {},
   "outputs": [
    {
     "name": "stdout",
     "output_type": "stream",
     "text": [
      "Pyth\n"
     ]
    }
   ],
   "source": [
    "print(s[0:4])   #from 0th index to 3rd index"
   ]
  },
  {
   "cell_type": "code",
   "execution_count": 55,
   "metadata": {},
   "outputs": [
    {
     "name": "stdout",
     "output_type": "stream",
     "text": [
      "h\n",
      "h\n"
     ]
    }
   ],
   "source": [
    "print(s[-3])   \n",
    "print(s[3])   "
   ]
  },
  {
   "cell_type": "code",
   "execution_count": 56,
   "metadata": {},
   "outputs": [
    {
     "name": "stdout",
     "output_type": "stream",
     "text": [
      "Python\n"
     ]
    }
   ],
   "source": [
    "print(s[:])     # when no starting and ending index is given it print the whole string"
   ]
  },
  {
   "cell_type": "code",
   "execution_count": 57,
   "metadata": {},
   "outputs": [
    {
     "name": "stdout",
     "output_type": "stream",
     "text": [
      "nohtyP\n"
     ]
    }
   ],
   "source": [
    "print(s[::-1])      #printing the string in reverse order."
   ]
  },
  {
   "cell_type": "code",
   "execution_count": 59,
   "metadata": {},
   "outputs": [
    {
     "name": "stdout",
     "output_type": "stream",
     "text": [
      "Python\n",
      "Pto\n"
     ]
    }
   ],
   "source": [
    "print(s[::1])   #printing each character with a step size of 1\n",
    "print(s[::2])   #printing each character with a step size of 2"
   ]
  },
  {
   "cell_type": "code",
   "execution_count": 60,
   "metadata": {},
   "outputs": [
    {
     "ename": "TypeError",
     "evalue": "'str' object does not support item assignment",
     "output_type": "error",
     "traceback": [
      "\u001b[1;31m---------------------------------------------------------------------------\u001b[0m",
      "\u001b[1;31mTypeError\u001b[0m                                 Traceback (most recent call last)",
      "\u001b[1;32md:\\VS Code\\PWSKILLS\\Python Programming\\Day-3.ipynb Cell 49\u001b[0m in \u001b[0;36m<cell line: 2>\u001b[1;34m()\u001b[0m\n\u001b[0;32m      <a href='vscode-notebook-cell:/d%3A/VS%20Code/PWSKILLS/Python%20Programming/Day-3.ipynb#Y112sZmlsZQ%3D%3D?line=0'>1</a>\u001b[0m \u001b[39m# As we know that strings are immutable, we can't change the string after it is assigned:\u001b[39;00m\n\u001b[1;32m----> <a href='vscode-notebook-cell:/d%3A/VS%20Code/PWSKILLS/Python%20Programming/Day-3.ipynb#Y112sZmlsZQ%3D%3D?line=1'>2</a>\u001b[0m s[\u001b[39m0\u001b[39;49m]\u001b[39m=\u001b[39m\u001b[39m'\u001b[39m\u001b[39mJ\u001b[39m\u001b[39m'\u001b[39m\n",
      "\u001b[1;31mTypeError\u001b[0m: 'str' object does not support item assignment"
     ]
    }
   ],
   "source": [
    "# As we know that strings are immutable, we can't change the string after it is assigned:\n",
    "s[0]='J'"
   ]
  },
  {
   "cell_type": "code",
   "execution_count": 61,
   "metadata": {},
   "outputs": [
    {
     "name": "stdout",
     "output_type": "stream",
     "text": [
      "Python Programming\n"
     ]
    }
   ],
   "source": [
    "# Instead of item assignment, we can concatenate strings!\n",
    "print(s+\" Programming\")\n"
   ]
  },
  {
   "cell_type": "code",
   "execution_count": 62,
   "metadata": {},
   "outputs": [
    {
     "name": "stdout",
     "output_type": "stream",
     "text": [
      "Hello  World\n"
     ]
    }
   ],
   "source": [
    "print(\"Hello \"+\" World\")"
   ]
  },
  {
   "cell_type": "code",
   "execution_count": 63,
   "metadata": {},
   "outputs": [
    {
     "name": "stdout",
     "output_type": "stream",
     "text": [
      "PythonPython\n"
     ]
    }
   ],
   "source": [
    "print(s*2)"
   ]
  },
  {
   "attachments": {},
   "cell_type": "markdown",
   "metadata": {},
   "source": [
    "#### String Length\n"
   ]
  },
  {
   "cell_type": "code",
   "execution_count": 64,
   "metadata": {},
   "outputs": [
    {
     "data": {
      "text/plain": [
       "12"
      ]
     },
     "execution_count": 64,
     "metadata": {},
     "output_type": "execute_result"
    }
   ],
   "source": [
    "# To find the length of a string we use `len()` function.\n",
    "\n",
    "stg = \"Data Science\"\n",
    "len(stg)"
   ]
  },
  {
   "attachments": {},
   "cell_type": "markdown",
   "metadata": {},
   "source": [
    "#### Finding character in a string"
   ]
  },
  {
   "cell_type": "code",
   "execution_count": 123,
   "metadata": {},
   "outputs": [
    {
     "name": "stdout",
     "output_type": "stream",
     "text": [
      "6\n"
     ]
    }
   ],
   "source": [
    "# To find the inde xof a  character in a string we use .find() function.\n",
    "# Note: It only return the index of only first occurence of that character \n",
    "w=\"Gaurabh\"\n",
    "print(w.find('h'))\n"
   ]
  },
  {
   "cell_type": "code",
   "execution_count": 124,
   "metadata": {},
   "outputs": [
    {
     "name": "stdout",
     "output_type": "stream",
     "text": [
      "3\n"
     ]
    }
   ],
   "source": [
    "a=\"Data Science Masters\"\n",
    "print(a.find('a',2,10)) #we can specific the staring and ending index, it will find the given character within that range only."
   ]
  },
  {
   "attachments": {},
   "cell_type": "markdown",
   "metadata": {},
   "source": [
    "#### Count Character in a String"
   ]
  },
  {
   "cell_type": "code",
   "execution_count": 66,
   "metadata": {},
   "outputs": [
    {
     "name": "stdout",
     "output_type": "stream",
     "text": [
      "2\n"
     ]
    }
   ],
   "source": [
    "# .count() function count the frequency of character present in a string\n",
    "print(stg.count('a'))\n"
   ]
  },
  {
   "cell_type": "code",
   "execution_count": 67,
   "metadata": {},
   "outputs": [
    {
     "name": "stdout",
     "output_type": "stream",
     "text": [
      "1\n"
     ]
    }
   ],
   "source": [
    "print(stg.count(' '))"
   ]
  },
  {
   "attachments": {},
   "cell_type": "markdown",
   "metadata": {},
   "source": [
    "#### Spliting of String"
   ]
  },
  {
   "cell_type": "code",
   "execution_count": 200,
   "metadata": {},
   "outputs": [
    {
     "name": "stdout",
     "output_type": "stream",
     "text": [
      "Gaurabh Chowdhury\n",
      "['Gaurab', ' C', 'owd', 'ury']\n"
     ]
    }
   ],
   "source": [
    "s1 = \"Gaurabh Chowdhury\"\n",
    "print(s1)\n",
    "# .split() function is used to split the string based on the inputed character. The inputed letter act as a delimeter and when ever that letter occures it splits the string and print the whole string in list format.\n",
    "# NOTE:- In split function the delimeter is not mentioned.\n",
    "print(s1.split('h'))"
   ]
  },
  {
   "attachments": {},
   "cell_type": "markdown",
   "metadata": {},
   "source": [
    "##### Changing the case of String\n"
   ]
  },
  {
   "cell_type": "code",
   "execution_count": 69,
   "metadata": {},
   "outputs": [
    {
     "name": "stdout",
     "output_type": "stream",
     "text": [
      "GAURABH CHOWDHURY\n"
     ]
    }
   ],
   "source": [
    "print(s1.upper())   #convert all character to upper case"
   ]
  },
  {
   "cell_type": "code",
   "execution_count": 70,
   "metadata": {},
   "outputs": [
    {
     "data": {
      "text/plain": [
       "False"
      ]
     },
     "execution_count": 70,
     "metadata": {},
     "output_type": "execute_result"
    }
   ],
   "source": [
    "s1.isupper()    #checks whether the string is in Uppercase or not"
   ]
  },
  {
   "cell_type": "code",
   "execution_count": 71,
   "metadata": {},
   "outputs": [
    {
     "name": "stdout",
     "output_type": "stream",
     "text": [
      "gaurabh chowdhury\n"
     ]
    }
   ],
   "source": [
    "print(s1.lower())   #convert all character to lower case"
   ]
  },
  {
   "cell_type": "code",
   "execution_count": 72,
   "metadata": {},
   "outputs": [
    {
     "data": {
      "text/plain": [
       "False"
      ]
     },
     "execution_count": 72,
     "metadata": {},
     "output_type": "execute_result"
    }
   ],
   "source": [
    "s1.islower()    #checks whether the string is in Lowercase or not"
   ]
  },
  {
   "cell_type": "code",
   "execution_count": 73,
   "metadata": {},
   "outputs": [
    {
     "name": "stdout",
     "output_type": "stream",
     "text": [
      "Gaurabh chowdhury\n"
     ]
    }
   ],
   "source": [
    "print(s1.capitalize()) #converts only the First character of the String to upper case."
   ]
  },
  {
   "cell_type": "code",
   "execution_count": 74,
   "metadata": {},
   "outputs": [
    {
     "name": "stdout",
     "output_type": "stream",
     "text": [
      "Data Science\n"
     ]
    }
   ],
   "source": [
    "s2 = \"data science\"\n",
    "print(s2.title())   #converts only the first character after space to uppercase.\n"
   ]
  },
  {
   "attachments": {},
   "cell_type": "markdown",
   "metadata": {},
   "source": [
    "#### Reverse String"
   ]
  },
  {
   "cell_type": "code",
   "execution_count": 85,
   "metadata": {},
   "outputs": [
    {
     "name": "stdout",
     "output_type": "stream",
     "text": [
      "y r u h d w o h C   h b a r u a G\n"
     ]
    }
   ],
   "source": [
    "print(\" \".join(reversed(s1)))"
   ]
  },
  {
   "cell_type": "code",
   "execution_count": 86,
   "metadata": {},
   "outputs": [
    {
     "name": "stdout",
     "output_type": "stream",
     "text": [
      "yruhdwohC hbaruaG\n"
     ]
    }
   ],
   "source": [
    "print(s1[::-1])"
   ]
  },
  {
   "attachments": {},
   "cell_type": "markdown",
   "metadata": {},
   "source": [
    "#### Removing character from the end of String"
   ]
  },
  {
   "cell_type": "code",
   "execution_count": 148,
   "metadata": {},
   "outputs": [
    {
     "data": {
      "text/plain": [
       "'Gaurabh'"
      ]
     },
     "execution_count": 148,
     "metadata": {},
     "output_type": "execute_result"
    }
   ],
   "source": [
    "string = \" Gaurabh \"\n",
    "string.strip(\" \")   #it removes the whitespace or character from the string"
   ]
  },
  {
   "cell_type": "code",
   "execution_count": 153,
   "metadata": {},
   "outputs": [
    {
     "data": {
      "text/plain": [
       "'Gaurabh '"
      ]
     },
     "execution_count": 153,
     "metadata": {},
     "output_type": "execute_result"
    }
   ],
   "source": [
    "string.lstrip(\" \")      #it removes the whitespace from the beginning"
   ]
  },
  {
   "cell_type": "code",
   "execution_count": 154,
   "metadata": {},
   "outputs": [
    {
     "data": {
      "text/plain": [
       "' Gaurabh'"
      ]
     },
     "execution_count": 154,
     "metadata": {},
     "output_type": "execute_result"
    }
   ],
   "source": [
    "string.rstrip(\" \")      #it removes the whitespace from the end"
   ]
  },
  {
   "attachments": {},
   "cell_type": "markdown",
   "metadata": {},
   "source": [
    "#### Replacing Strings"
   ]
  },
  {
   "cell_type": "code",
   "execution_count": 97,
   "metadata": {},
   "outputs": [
    {
     "data": {
      "text/plain": [
       "'Python Programming'"
      ]
     },
     "execution_count": 97,
     "metadata": {},
     "output_type": "execute_result"
    }
   ],
   "source": [
    "r_string = \"R Programming\"\n",
    "r_string.replace(\"R\",\"Python\")"
   ]
  },
  {
   "attachments": {},
   "cell_type": "markdown",
   "metadata": {},
   "source": [
    "#### Checking String Case"
   ]
  },
  {
   "cell_type": "code",
   "execution_count": 113,
   "metadata": {},
   "outputs": [
    {
     "data": {
      "text/plain": [
       "False"
      ]
     },
     "execution_count": 113,
     "metadata": {},
     "output_type": "execute_result"
    }
   ],
   "source": [
    "s=\"DataMining07\"\n",
    "s.isspace()"
   ]
  },
  {
   "cell_type": "code",
   "execution_count": 109,
   "metadata": {},
   "outputs": [
    {
     "data": {
      "text/plain": [
       "False"
      ]
     },
     "execution_count": 109,
     "metadata": {},
     "output_type": "execute_result"
    }
   ],
   "source": [
    "s.isdigit()"
   ]
  },
  {
   "cell_type": "code",
   "execution_count": 110,
   "metadata": {},
   "outputs": [
    {
     "data": {
      "text/plain": [
       "False"
      ]
     },
     "execution_count": 110,
     "metadata": {},
     "output_type": "execute_result"
    }
   ],
   "source": [
    "s.endswith('g')"
   ]
  },
  {
   "cell_type": "code",
   "execution_count": 111,
   "metadata": {},
   "outputs": [
    {
     "data": {
      "text/plain": [
       "True"
      ]
     },
     "execution_count": 111,
     "metadata": {},
     "output_type": "execute_result"
    }
   ],
   "source": [
    "s.startswith('D')"
   ]
  },
  {
   "cell_type": "code",
   "execution_count": 114,
   "metadata": {},
   "outputs": [
    {
     "data": {
      "text/plain": [
       "True"
      ]
     },
     "execution_count": 114,
     "metadata": {},
     "output_type": "execute_result"
    }
   ],
   "source": [
    "s.isalnum()"
   ]
  },
  {
   "cell_type": "code",
   "execution_count": 116,
   "metadata": {},
   "outputs": [
    {
     "data": {
      "text/plain": [
       "False"
      ]
     },
     "execution_count": 116,
     "metadata": {},
     "output_type": "execute_result"
    }
   ],
   "source": [
    "s.istitle()"
   ]
  },
  {
   "attachments": {},
   "cell_type": "markdown",
   "metadata": {},
   "source": [
    "#### Iterating through the String"
   ]
  },
  {
   "cell_type": "code",
   "execution_count": 122,
   "metadata": {},
   "outputs": [
    {
     "name": "stdout",
     "output_type": "stream",
     "text": [
      "0 -> C\n",
      "1 -> o\n",
      "2 -> m\n",
      "3 -> p\n",
      "4 -> a\n",
      "5 -> n\n",
      "6 -> y\n"
     ]
    }
   ],
   "source": [
    "# iterating the string with index\n",
    "str = \"Company\"\n",
    "for i in range(len(str)):\n",
    "    print(i,\"->\",str[i])"
   ]
  },
  {
   "cell_type": "code",
   "execution_count": 134,
   "metadata": {},
   "outputs": [
    {
     "name": "stdout",
     "output_type": "stream",
     "text": [
      "W is consonant\n",
      "e is vowel\n",
      "l is consonant\n",
      "c is consonant\n",
      "o is vowel\n",
      "m is consonant\n",
      "e is vowel\n",
      "t is consonant\n",
      "o is vowel\n",
      "D is consonant\n",
      "a is vowel\n",
      "t is consonant\n",
      "a is vowel\n",
      "S is consonant\n",
      "c is consonant\n",
      "i is vowel\n",
      "e is vowel\n",
      "n is consonant\n",
      "c is consonant\n",
      "e is vowel\n",
      "C is consonant\n",
      "o is vowel\n",
      "u is vowel\n",
      "r is consonant\n",
      "s is consonant\n",
      "e is vowel\n"
     ]
    }
   ],
   "source": [
    "string = \"Welcome to Data Science Course\"\n",
    "vowel = \"AaEeIiOoUu\"\n",
    "string.strip(' ')\n",
    "for ch in string:\n",
    "    if ch == \" \":\n",
    "        continue\n",
    "    elif ch in vowel:\n",
    "        print(f\"{ch} is vowel\")\n",
    "    else:\n",
    "        print(f\"{ch} is consonant\")\n"
   ]
  },
  {
   "attachments": {},
   "cell_type": "markdown",
   "metadata": {},
   "source": [
    "#### Some Miscellaneous function:\n"
   ]
  },
  {
   "cell_type": "code",
   "execution_count": 157,
   "metadata": {},
   "outputs": [
    {
     "name": "stdout",
     "output_type": "stream",
     "text": [
      "Chowdhury\n",
      "G.Chowdhu\n"
     ]
    }
   ],
   "source": [
    "# It is similar to split function\n",
    "s=\"G.Chowdhury\"\n",
    "print(s.removeprefix('G.'))         #It removes from the beginning\n",
    "print(s.removesuffix('ry'))         #It removes from the end"
   ]
  },
  {
   "cell_type": "code",
   "execution_count": 159,
   "metadata": {},
   "outputs": [
    {
     "name": "stdout",
     "output_type": "stream",
     "text": [
      "*******Horse********\n"
     ]
    }
   ],
   "source": [
    "s1 = \"Horse\"\n",
    "print(s1.center(20,'*'))    #it increases the string length to 20 and keep the string at the center surround the string with given character."
   ]
  },
  {
   "cell_type": "code",
   "execution_count": 164,
   "metadata": {},
   "outputs": [
    {
     "data": {
      "text/plain": [
       "'Hello   tabs'"
      ]
     },
     "execution_count": 164,
     "metadata": {},
     "output_type": "execute_result"
    }
   ],
   "source": [
    "s=\"Hello\\ttabs\"\n",
    "s.expandtabs()  #If your string contains any tabs(\\t) it will show it in the output console"
   ]
  }
 ],
 "metadata": {
  "kernelspec": {
   "display_name": "Python 3",
   "language": "python",
   "name": "python3"
  },
  "language_info": {
   "codemirror_mode": {
    "name": "ipython",
    "version": 3
   },
   "file_extension": ".py",
   "mimetype": "text/x-python",
   "name": "python",
   "nbconvert_exporter": "python",
   "pygments_lexer": "ipython3",
   "version": "3.10.6"
  },
  "orig_nbformat": 4,
  "vscode": {
   "interpreter": {
    "hash": "a0024f5569284e2b511d8cb12062d37de04fed5a3682d14c56150c8974ce8587"
   }
  }
 },
 "nbformat": 4,
 "nbformat_minor": 2
}

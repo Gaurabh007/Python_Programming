{
 "cells": [
  {
   "attachments": {},
   "cell_type": "markdown",
   "metadata": {},
   "source": [
    "### Polymorphism\n",
    "* Single interface multiple forms"
   ]
  },
  {
   "cell_type": "code",
   "execution_count": 1,
   "metadata": {},
   "outputs": [],
   "source": [
    "def add(a,b):           #same function perform the same task (addition) but with different datatypes\n",
    "    return a+b"
   ]
  },
  {
   "cell_type": "code",
   "execution_count": 2,
   "metadata": {},
   "outputs": [
    {
     "data": {
      "text/plain": [
       "9"
      ]
     },
     "execution_count": 2,
     "metadata": {},
     "output_type": "execute_result"
    }
   ],
   "source": [
    "add(5,4)                #calling the function with integer datatype                     "
   ]
  },
  {
   "cell_type": "code",
   "execution_count": 3,
   "metadata": {},
   "outputs": [
    {
     "data": {
      "text/plain": [
       "'Gaurabh Chowdhury'"
      ]
     },
     "execution_count": 3,
     "metadata": {},
     "output_type": "execute_result"
    }
   ],
   "source": [
    "add('Gaurabh',' Chowdhury')     #calling the same function with string datatype"
   ]
  },
  {
   "attachments": {},
   "cell_type": "markdown",
   "metadata": {},
   "source": [
    "##### Example of Polymorphism -\n",
    "Below are two classes named `Nexon` and `Lamborghini` having a method `Car_name`. The concept of Polymorphism comes into play when we create the object of both of the class and stored it in a list. Then creating a function which contains the for loop for calling the methods. "
   ]
  },
  {
   "cell_type": "code",
   "execution_count": 4,
   "metadata": {},
   "outputs": [],
   "source": [
    "class Nexon:                        # Class 1\n",
    "    def Car_name(self):\n",
    "        print(\"Nexon Kaziranga\")"
   ]
  },
  {
   "cell_type": "code",
   "execution_count": 5,
   "metadata": {},
   "outputs": [],
   "source": [
    "class Lamborghini:                  # Class 2\n",
    "    def Car_name(self):\n",
    "        print(\"Lamborghini Urus\")"
   ]
  },
  {
   "cell_type": "code",
   "execution_count": 6,
   "metadata": {},
   "outputs": [],
   "source": [
    "obj_Nexon = Nexon()                 # object of Nexon class\n",
    "obj_Lamborghini = Lamborghini()     # object of Lamborghini class"
   ]
  },
  {
   "cell_type": "code",
   "execution_count": 7,
   "metadata": {},
   "outputs": [],
   "source": [
    "objs = [obj_Lamborghini,obj_Nexon]"
   ]
  },
  {
   "attachments": {},
   "cell_type": "markdown",
   "metadata": {},
   "source": [
    "Within the `final` function ,in the loops `i` iterates over the list which contains the objects of both the class. When `i` is `obj_lamborghini` then `Car_name` of Lamborghini class is called and the method is executed , same goes for `obj_Nexon`."
   ]
  },
  {
   "cell_type": "code",
   "execution_count": 8,
   "metadata": {},
   "outputs": [
    {
     "name": "stdout",
     "output_type": "stream",
     "text": [
      "Lamborghini Urus\n",
      "Nexon Kaziranga\n"
     ]
    }
   ],
   "source": [
    "def final(car_objs):\n",
    "    for i in car_objs:\n",
    "        i.Car_name()\n",
    "\n",
    "final(objs)"
   ]
  },
  {
   "attachments": {},
   "cell_type": "markdown",
   "metadata": {},
   "source": [
    "### Encapsulation\n",
    "* It allow to prevents direct access of data or method in a oops concept.\n",
    "* It provides integrity of the data"
   ]
  },
  {
   "cell_type": "code",
   "execution_count": 10,
   "metadata": {},
   "outputs": [],
   "source": [
    "class test:\n",
    "    def __init__(self,a,b):\n",
    "        self.a = a                  #public variables\n",
    "        self.b = b\n",
    "t=test(56,4)"
   ]
  },
  {
   "cell_type": "code",
   "execution_count": 11,
   "metadata": {},
   "outputs": [
    {
     "data": {
      "text/plain": [
       "56"
      ]
     },
     "execution_count": 11,
     "metadata": {},
     "output_type": "execute_result"
    }
   ],
   "source": [
    "t.a                     #direct access of the data members"
   ]
  },
  {
   "cell_type": "code",
   "execution_count": 13,
   "metadata": {},
   "outputs": [],
   "source": [
    "t.a = 99                # assignment of data memeber"
   ]
  },
  {
   "cell_type": "code",
   "execution_count": 14,
   "metadata": {},
   "outputs": [
    {
     "data": {
      "text/plain": [
       "99"
      ]
     },
     "execution_count": 14,
     "metadata": {},
     "output_type": "execute_result"
    }
   ],
   "source": [
    "t.a"
   ]
  },
  {
   "attachments": {},
   "cell_type": "markdown",
   "metadata": {},
   "source": [
    "This modification or direct access of data can be restricted by Encapsulation concept."
   ]
  },
  {
   "cell_type": "code",
   "execution_count": 55,
   "metadata": {},
   "outputs": [],
   "source": [
    "class car:                              #Encapsulation\n",
    "    def __init__(self, year, make, model, speed):\n",
    "        self.__year = year            #private variables ('__' indicates that it's a private variable)\n",
    "        self.__make = make              # hiding all the variables from the users.\n",
    "        self.__model = model\n",
    "        self.__speed = speed\n"
   ]
  },
  {
   "cell_type": "code",
   "execution_count": 16,
   "metadata": {},
   "outputs": [],
   "source": [
    "obj_car = car(2022,'toyota','innova',160)"
   ]
  },
  {
   "cell_type": "code",
   "execution_count": 22,
   "metadata": {},
   "outputs": [
    {
     "ename": "AttributeError",
     "evalue": "'car' object has no attribute '__year'",
     "output_type": "error",
     "traceback": [
      "\u001b[1;31m---------------------------------------------------------------------------\u001b[0m",
      "\u001b[1;31mAttributeError\u001b[0m                            Traceback (most recent call last)",
      "Cell \u001b[1;32mIn[22], line 1\u001b[0m\n\u001b[1;32m----> 1\u001b[0m obj_car\u001b[39m.\u001b[39;49m__year\n",
      "\u001b[1;31mAttributeError\u001b[0m: 'car' object has no attribute '__year'"
     ]
    }
   ],
   "source": [
    "obj_car.__year                  # except the programmer no one will able to access the data members"
   ]
  },
  {
   "cell_type": "code",
   "execution_count": 25,
   "metadata": {},
   "outputs": [
    {
     "data": {
      "text/plain": [
       "'innova'"
      ]
     },
     "execution_count": 25,
     "metadata": {},
     "output_type": "execute_result"
    }
   ],
   "source": [
    "# For the user they won't be able to access the variables as they won't be aware of the variable because of Encapsulation\n",
    "obj_car._car__model     #Mentioning the class name along with data member to access the data (only for programmers)"
   ]
  },
  {
   "attachments": {},
   "cell_type": "markdown",
   "metadata": {},
   "source": [
    "If we want to allow user to set/get a value of any of the variable we should add a function **within the class**."
   ]
  },
  {
   "cell_type": "code",
   "execution_count": 50,
   "metadata": {},
   "outputs": [],
   "source": [
    "class car1:                              \n",
    "    def __init__(self, year, make, model, speed):\n",
    "        self.__year = year              \n",
    "        self.__make = make              \n",
    "        self.__model = model\n",
    "        self.__speed = 0\n",
    "\n",
    "    def set_speed(self,speed):           #The user can only update the speed using this function only\n",
    "        self.__speed = speed \n",
    "\n",
    "    def get_speed(self):                #The user can access the data using this get method\n",
    "        return self.__speed"
   ]
  },
  {
   "cell_type": "code",
   "execution_count": 51,
   "metadata": {},
   "outputs": [],
   "source": [
    "obj_car1 = car1(2022,'toyota','innova',12)"
   ]
  },
  {
   "cell_type": "code",
   "execution_count": 52,
   "metadata": {},
   "outputs": [],
   "source": [
    "obj_car1.set_speed(594)                           #this is accessible for user"
   ]
  },
  {
   "cell_type": "code",
   "execution_count": 53,
   "metadata": {},
   "outputs": [
    {
     "data": {
      "text/plain": [
       "594"
      ]
     },
     "execution_count": 53,
     "metadata": {},
     "output_type": "execute_result"
    }
   ],
   "source": [
    "obj_car1._car1__speed               #this can be only accessible from the programmer"
   ]
  },
  {
   "cell_type": "code",
   "execution_count": 54,
   "metadata": {},
   "outputs": [
    {
     "data": {
      "text/plain": [
       "594"
      ]
     },
     "execution_count": 54,
     "metadata": {},
     "output_type": "execute_result"
    }
   ],
   "source": [
    "obj_car1.get_speed()                  #this is accessible for user"
   ]
  },
  {
   "cell_type": "code",
   "execution_count": 61,
   "metadata": {},
   "outputs": [],
   "source": [
    "class bank_acc:\n",
    "    def __init__(self, balance):\n",
    "        self.__balance = balance                    # private variable\n",
    "\n",
    "    def deposit(self, amount):\n",
    "        self.__balance = self.__balance + amount\n",
    "\n",
    "    def withdraw(self, amount):\n",
    "        if self.__balance >= amount:\n",
    "            self.__balance = self.__balance - amount\n",
    "            return True\n",
    "        else:\n",
    "            return False\n",
    "\n",
    "    def get_balance(self):\n",
    "        return self.__balance           #for users to only see the private variable\n",
    "\n",
    "obj_bank_acc = bank_acc(10000)"
   ]
  },
  {
   "cell_type": "code",
   "execution_count": 62,
   "metadata": {},
   "outputs": [],
   "source": [
    "obj_bank_acc.deposit(2000)"
   ]
  },
  {
   "cell_type": "code",
   "execution_count": 63,
   "metadata": {},
   "outputs": [
    {
     "data": {
      "text/plain": [
       "12000"
      ]
     },
     "execution_count": 63,
     "metadata": {},
     "output_type": "execute_result"
    }
   ],
   "source": [
    "obj_bank_acc.get_balance()"
   ]
  },
  {
   "cell_type": "code",
   "execution_count": 69,
   "metadata": {},
   "outputs": [
    {
     "data": {
      "text/plain": [
       "False"
      ]
     },
     "execution_count": 69,
     "metadata": {},
     "output_type": "execute_result"
    }
   ],
   "source": [
    "obj_bank_acc.withdraw(9000)"
   ]
  },
  {
   "cell_type": "code",
   "execution_count": 70,
   "metadata": {},
   "outputs": [
    {
     "data": {
      "text/plain": [
       "7000"
      ]
     },
     "execution_count": 70,
     "metadata": {},
     "output_type": "execute_result"
    }
   ],
   "source": [
    "obj_bank_acc.get_balance()"
   ]
  },
  {
   "attachments": {},
   "cell_type": "markdown",
   "metadata": {},
   "source": [
    "### Inheritance\n",
    "* When a class inherit the property of another classes\n",
    "* Syntax to inherit the child class:\n",
    ">   \n",
    ">                           child_class(parent_class_name):\n",
    ">                               Statements..\n",
    "* In the given below example the child class is inherited (which means it can access the data member from its parent class) it can access the test_parent method and prints its message."
   ]
  },
  {
   "cell_type": "code",
   "execution_count": 76,
   "metadata": {},
   "outputs": [
    {
     "name": "stdout",
     "output_type": "stream",
     "text": [
      "This is my Parent Class\n"
     ]
    }
   ],
   "source": [
    "class parent:                           #Parent Class\n",
    "    def test_parent(self):\n",
    "        print('This is my Parent Class')\n",
    "\n",
    "class child(parent):                    #inherit class\n",
    "    pass\n",
    "\n",
    "obj_child = child()\n",
    "obj_child.test_parent()"
   ]
  },
  {
   "attachments": {},
   "cell_type": "markdown",
   "metadata": {},
   "source": [
    "### Mulitlevel Inheritance\n",
    "* In multilevel inheritance class1 is parent class, class2 is inherited from class1 and class3 is inherited from class2.\n",
    ">                                       Class-1 --------\n",
    ">                                           |          |\n",
    ">                                           |          |\n",
    ">                                           V <---------          \n",
    ">                                       Class-2 --------\n",
    ">                                           |          |\n",
    ">                                           |          | \n",
    ">                                           V <---------\n",
    ">                                       Class-3 --------\n",
    ">                                           |          |\n",
    ">                                           |          |\n",
    ">                                           V <---------\n",
    ">                                                      |\n",
    ">                                           .          |\n",
    ">                                           .          V\n",
    ">                                           .\n",
    ">                           \n",
    ">                                       Class-n\n",
    ">\n",
    "\n"
   ]
  },
  {
   "cell_type": "code",
   "execution_count": 99,
   "metadata": {},
   "outputs": [],
   "source": [
    "class GrandParent:\n",
    "    def GP_message(self):\n",
    "        print('They are my GrandParents')\n",
    "\n",
    "class Parent(GrandParent):\n",
    "    def P_message(self):\n",
    "        print('They are my Parents')\n",
    "\n",
    "class Child(Parent):\n",
    "    def C_message(self):\n",
    "        print('This is Child')\n"
   ]
  },
  {
   "cell_type": "code",
   "execution_count": 100,
   "metadata": {},
   "outputs": [],
   "source": [
    "obj_Child = Child()"
   ]
  },
  {
   "cell_type": "code",
   "execution_count": 101,
   "metadata": {},
   "outputs": [
    {
     "name": "stdout",
     "output_type": "stream",
     "text": [
      "They are my Parents\n"
     ]
    }
   ],
   "source": [
    "obj_Child.P_message()"
   ]
  },
  {
   "cell_type": "code",
   "execution_count": 102,
   "metadata": {},
   "outputs": [
    {
     "name": "stdout",
     "output_type": "stream",
     "text": [
      "They are my GrandParents\n"
     ]
    }
   ],
   "source": [
    "obj_Child.GP_message()"
   ]
  },
  {
   "cell_type": "code",
   "execution_count": 79,
   "metadata": {},
   "outputs": [],
   "source": [
    "class class1:\n",
    "    def test_class1(self):\n",
    "        print('This is my Class1')\n",
    "\n",
    "class class2(class1):\n",
    "    def test_class2(self):\n",
    "        print('This is my Class2')\n",
    "\n",
    "class class3(class2):\n",
    "    def test_class3(self):\n",
    "        print('This is my Class3')"
   ]
  },
  {
   "cell_type": "code",
   "execution_count": 83,
   "metadata": {},
   "outputs": [
    {
     "name": "stdout",
     "output_type": "stream",
     "text": [
      "This is my Class1\n",
      "This is my Class2\n",
      "This is my Class3\n"
     ]
    }
   ],
   "source": [
    "obj_class3 = class3()\n",
    "obj_class3.test_class1()\n",
    "obj_class3.test_class2()\n",
    "obj_class3.test_class3()"
   ]
  },
  {
   "attachments": {},
   "cell_type": "markdown",
   "metadata": {},
   "source": [
    "### Multiple Inheritance\n",
    ">                       --Class-1     Class-2     . . .       Class-N\n",
    ">                       |                |                        |\n",
    ">                       |                V                        |\n",
    ">                       ------------> InheritClass <---------------"
   ]
  },
  {
   "cell_type": "code",
   "execution_count": 87,
   "metadata": {},
   "outputs": [],
   "source": [
    "class class_1:\n",
    "    def test_class_1(self):\n",
    "        print(\"This is Class1\")\n",
    "\n",
    "class class_2:\n",
    "    def test_class_2(self):\n",
    "        print(\"This is Class2\")\n",
    "\n",
    "class class_3(class_1,class_2):\n",
    "    pass"
   ]
  },
  {
   "cell_type": "code",
   "execution_count": 88,
   "metadata": {},
   "outputs": [],
   "source": [
    "obj_class_3 = class_3()"
   ]
  },
  {
   "cell_type": "code",
   "execution_count": 89,
   "metadata": {},
   "outputs": [
    {
     "name": "stdout",
     "output_type": "stream",
     "text": [
      "This is Class2\n"
     ]
    }
   ],
   "source": [
    "obj_class_3.test_class_2()"
   ]
  },
  {
   "cell_type": "code",
   "execution_count": 90,
   "metadata": {},
   "outputs": [
    {
     "name": "stdout",
     "output_type": "stream",
     "text": [
      "This is Class1\n"
     ]
    }
   ],
   "source": [
    "obj_class_3.test_class_1()"
   ]
  }
 ],
 "metadata": {
  "kernelspec": {
   "display_name": "Python 3",
   "language": "python",
   "name": "python3"
  },
  "language_info": {
   "codemirror_mode": {
    "name": "ipython",
    "version": 3
   },
   "file_extension": ".py",
   "mimetype": "text/x-python",
   "name": "python",
   "nbconvert_exporter": "python",
   "pygments_lexer": "ipython3",
   "version": "3.11.2"
  },
  "orig_nbformat": 4,
  "vscode": {
   "interpreter": {
    "hash": "bf2765f521931e2f19f12976575e4735ff3b02b38699a1c8a104e77ac4d978bc"
   }
  }
 },
 "nbformat": 4,
 "nbformat_minor": 2
}

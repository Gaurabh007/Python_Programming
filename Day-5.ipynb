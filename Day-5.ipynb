{
 "cells": [
  {
   "attachments": {},
   "cell_type": "markdown",
   "metadata": {},
   "source": [
    "### **Tuples**\n",
    "* Tuples is another Data Structure in Python after Lists.\n",
    "* Tuple is a sequence of `immutable` objects, which is once we define the values in tuples we can't change it.\n",
    "* The data is tuples are inclosed within a parentheses `()`. "
   ]
  },
  {
   "attachments": {},
   "cell_type": "markdown",
   "metadata": {},
   "source": [
    "#### Creating a Tuple"
   ]
  },
  {
   "cell_type": "code",
   "execution_count": 14,
   "metadata": {},
   "outputs": [
    {
     "name": "stdout",
     "output_type": "stream",
     "text": [
      "<class 'tuple'>\n"
     ]
    }
   ],
   "source": [
    "tup = ()        #creating a empty tuple\n",
    "print(type(tup))"
   ]
  },
  {
   "cell_type": "code",
   "execution_count": 15,
   "metadata": {},
   "outputs": [
    {
     "name": "stdout",
     "output_type": "stream",
     "text": [
      "<class 'int'>\n",
      "<class 'tuple'>\n"
     ]
    }
   ],
   "source": [
    "t = (5)     #Wrong way to creating a tuple with single element. Without the comma python takes it as a ordinary data type.\n",
    "print(type(t))\n",
    "\n",
    "t1 = (5,)   #Correct way for creating a single element tuple.\n",
    "print(type(t1))"
   ]
  },
  {
   "cell_type": "code",
   "execution_count": 16,
   "metadata": {},
   "outputs": [
    {
     "name": "stdout",
     "output_type": "stream",
     "text": [
      "(1, 2, 'tuples', True, 15.9, 'a', 'e')\n"
     ]
    }
   ],
   "source": [
    "# A Tuple can contain an integer, a string, a boolen, a float, a character values\n",
    "tup1 = (1,2,\"tuples\",True,15.9,'a','e')\n",
    "print(tup1)"
   ]
  },
  {
   "cell_type": "code",
   "execution_count": 17,
   "metadata": {},
   "outputs": [
    {
     "data": {
      "text/plain": [
       "'tuples'"
      ]
     },
     "execution_count": 17,
     "metadata": {},
     "output_type": "execute_result"
    }
   ],
   "source": [
    "# We can access the element of a tuple similar to lists.\n",
    "tup1[2]"
   ]
  },
  {
   "cell_type": "code",
   "execution_count": 18,
   "metadata": {},
   "outputs": [
    {
     "data": {
      "text/plain": [
       "(2, 'tuples', True, 15.9)"
      ]
     },
     "execution_count": 18,
     "metadata": {},
     "output_type": "execute_result"
    }
   ],
   "source": [
    "tup1[1:4]"
   ]
  },
  {
   "cell_type": "code",
   "execution_count": 19,
   "metadata": {},
   "outputs": [
    {
     "data": {
      "text/plain": [
       "('e', 'a', 15.9, True, 'tuples', 2, 1)"
      ]
     },
     "execution_count": 19,
     "metadata": {},
     "output_type": "execute_result"
    }
   ],
   "source": [
    "tup1[::-1]  #Reversing a Tuple"
   ]
  },
  {
   "cell_type": "code",
   "execution_count": 20,
   "metadata": {},
   "outputs": [
    {
     "ename": "TypeError",
     "evalue": "'tuple' object does not support item assignment",
     "output_type": "error",
     "traceback": [
      "\u001b[1;31m---------------------------------------------------------------------------\u001b[0m",
      "\u001b[1;31mTypeError\u001b[0m                                 Traceback (most recent call last)",
      "\u001b[1;32md:\\VS Code\\PWSKILLS\\Python Programming\\Day-5.ipynb Cell 9\u001b[0m in \u001b[0;36m<cell line: 2>\u001b[1;34m()\u001b[0m\n\u001b[0;32m      <a href='vscode-notebook-cell:/d%3A/VS%20Code/PWSKILLS/Python%20Programming/Day-5.ipynb#X11sZmlsZQ%3D%3D?line=0'>1</a>\u001b[0m \u001b[39m# As we know Tuples are immutable object, item assignments is not allowed\u001b[39;00m\n\u001b[1;32m----> <a href='vscode-notebook-cell:/d%3A/VS%20Code/PWSKILLS/Python%20Programming/Day-5.ipynb#X11sZmlsZQ%3D%3D?line=1'>2</a>\u001b[0m tup1[\u001b[39m3\u001b[39;49m]\u001b[39m=\u001b[39m\u001b[39m99\u001b[39m\n",
      "\u001b[1;31mTypeError\u001b[0m: 'tuple' object does not support item assignment"
     ]
    }
   ],
   "source": [
    "# As we know Tuples are immutable object, item assignments is not allowed\n",
    "tup1[3]=99"
   ]
  },
  {
   "attachments": {},
   "cell_type": "markdown",
   "metadata": {},
   "source": [
    "### In-built Function in Tuples\n",
    "\n",
    "Tuples support only two Function:\n",
    "> * .count(): It counts the occurrence of a particular value\n",
    "> * .index(): It returns the first index of a particular value. If the value is not found it raise an Error"
   ]
  },
  {
   "cell_type": "code",
   "execution_count": 21,
   "metadata": {},
   "outputs": [
    {
     "data": {
      "text/plain": [
       "4"
      ]
     },
     "execution_count": 21,
     "metadata": {},
     "output_type": "execute_result"
    }
   ],
   "source": [
    "# count() function:\n",
    "t1 = (1,5,6,7,8,9,4,6,5,1,6,8,7,8,7,6,5,1,5)\n",
    "t1.count(5)     #it returns the occurrence of 5 in tuple\n"
   ]
  },
  {
   "cell_type": "code",
   "execution_count": 22,
   "metadata": {},
   "outputs": [
    {
     "data": {
      "text/plain": [
       "3"
      ]
     },
     "execution_count": 22,
     "metadata": {},
     "output_type": "execute_result"
    }
   ],
   "source": [
    "t1.count(True)      #As we can we there is not True  value in tuple but it returns 3, the reason behind is that internally python takes all 0's and 1's as False and True respectively and vice-versa."
   ]
  },
  {
   "cell_type": "code",
   "execution_count": 23,
   "metadata": {},
   "outputs": [
    {
     "data": {
      "text/plain": [
       "5"
      ]
     },
     "execution_count": 23,
     "metadata": {},
     "output_type": "execute_result"
    }
   ],
   "source": [
    "# index() function:\n",
    "t1.index(9)     #It returns the first index of the value."
   ]
  },
  {
   "cell_type": "code",
   "execution_count": 24,
   "metadata": {},
   "outputs": [
    {
     "ename": "ValueError",
     "evalue": "tuple.index(x): x not in tuple",
     "output_type": "error",
     "traceback": [
      "\u001b[1;31m---------------------------------------------------------------------------\u001b[0m",
      "\u001b[1;31mValueError\u001b[0m                                Traceback (most recent call last)",
      "\u001b[1;32md:\\VS Code\\PWSKILLS\\Python Programming\\Day-5.ipynb Cell 14\u001b[0m in \u001b[0;36m<cell line: 1>\u001b[1;34m()\u001b[0m\n\u001b[1;32m----> <a href='vscode-notebook-cell:/d%3A/VS%20Code/PWSKILLS/Python%20Programming/Day-5.ipynb#X16sZmlsZQ%3D%3D?line=0'>1</a>\u001b[0m t1\u001b[39m.\u001b[39;49mindex(\u001b[39m99\u001b[39;49m)\n",
      "\u001b[1;31mValueError\u001b[0m: tuple.index(x): x not in tuple"
     ]
    }
   ],
   "source": [
    "t1.index(99)    #if inputed value is not present it raise an error"
   ]
  },
  {
   "cell_type": "code",
   "execution_count": 25,
   "metadata": {},
   "outputs": [
    {
     "name": "stdout",
     "output_type": "stream",
     "text": [
      "1  :  <class 'int'>\n",
      "2  :  <class 'int'>\n",
      "tuples  :  <class 'str'>\n",
      "True  :  <class 'bool'>\n",
      "15.9  :  <class 'float'>\n",
      "a  :  <class 'str'>\n",
      "e  :  <class 'str'>\n"
     ]
    }
   ],
   "source": [
    "# Accessing element one by one with its type.\n",
    "for i in tup1:\n",
    "    print(i,\" : \",type(i))"
   ]
  },
  {
   "cell_type": "code",
   "execution_count": 26,
   "metadata": {},
   "outputs": [
    {
     "data": {
      "text/plain": [
       "9"
      ]
     },
     "execution_count": 26,
     "metadata": {},
     "output_type": "execute_result"
    }
   ],
   "source": [
    "# We can find min and max value of a tuple\n",
    "max(t1)\n"
   ]
  },
  {
   "cell_type": "code",
   "execution_count": 27,
   "metadata": {},
   "outputs": [
    {
     "data": {
      "text/plain": [
       "1"
      ]
     },
     "execution_count": 27,
     "metadata": {},
     "output_type": "execute_result"
    }
   ],
   "source": [
    "min(t1)"
   ]
  },
  {
   "cell_type": "code",
   "execution_count": 28,
   "metadata": {},
   "outputs": [
    {
     "ename": "TypeError",
     "evalue": "can only concatenate tuple (not \"int\") to tuple",
     "output_type": "error",
     "traceback": [
      "\u001b[1;31m---------------------------------------------------------------------------\u001b[0m",
      "\u001b[1;31mTypeError\u001b[0m                                 Traceback (most recent call last)",
      "\u001b[1;32md:\\VS Code\\PWSKILLS\\Python Programming\\Day-5.ipynb Cell 18\u001b[0m in \u001b[0;36m<cell line: 2>\u001b[1;34m()\u001b[0m\n\u001b[0;32m      <a href='vscode-notebook-cell:/d%3A/VS%20Code/PWSKILLS/Python%20Programming/Day-5.ipynb#X23sZmlsZQ%3D%3D?line=0'>1</a>\u001b[0m t1 \u001b[39m=\u001b[39m (\u001b[39m1\u001b[39m,\u001b[39m2\u001b[39m,\u001b[39m3\u001b[39m,\u001b[39m4\u001b[39m,\u001b[39m5\u001b[39m)\n\u001b[1;32m----> <a href='vscode-notebook-cell:/d%3A/VS%20Code/PWSKILLS/Python%20Programming/Day-5.ipynb#X23sZmlsZQ%3D%3D?line=1'>2</a>\u001b[0m t1 \u001b[39m+\u001b[39;49m (\u001b[39m99\u001b[39;49m)\n",
      "\u001b[1;31mTypeError\u001b[0m: can only concatenate tuple (not \"int\") to tuple"
     ]
    }
   ],
   "source": [
    "t1 = (1,2,3,4,5)\n",
    "t1 + (99)   #Wrong way to concatenate"
   ]
  },
  {
   "cell_type": "code",
   "execution_count": 29,
   "metadata": {},
   "outputs": [
    {
     "data": {
      "text/plain": [
       "(1, 2, 3, 4, 5, 10, 9, 8, 7, 6)"
      ]
     },
     "execution_count": 29,
     "metadata": {},
     "output_type": "execute_result"
    }
   ],
   "source": [
    "t2 = (10, 9, 8, 7, 6)\n",
    "t1 + t2     #We can only concate a tuple with tuple only"
   ]
  },
  {
   "cell_type": "code",
   "execution_count": 30,
   "metadata": {},
   "outputs": [
    {
     "data": {
      "text/plain": [
       "((1, 2, 3, 4, 5), (10, 9, 8, 7, 6))"
      ]
     },
     "execution_count": 30,
     "metadata": {},
     "output_type": "execute_result"
    }
   ],
   "source": [
    "t3 = (t1,t2)        #We can create a tuple with a tuple\n",
    "t3"
   ]
  },
  {
   "cell_type": "code",
   "execution_count": 31,
   "metadata": {},
   "outputs": [
    {
     "name": "stdout",
     "output_type": "stream",
     "text": [
      "((1, 2, 3, 4, 5), [11, 22, 33, 44, 55])\n"
     ]
    }
   ],
   "source": [
    "l1 = [11,22,33,44,55]\n",
    "t4 = (t1,l1)        #We can keep a list within a tuple\n",
    "print(t4)"
   ]
  },
  {
   "cell_type": "code",
   "execution_count": 32,
   "metadata": {},
   "outputs": [
    {
     "data": {
      "text/plain": [
       "((1, 2, 3, 4, 5), [11, 22, 33, 44, 99])"
      ]
     },
     "execution_count": 32,
     "metadata": {},
     "output_type": "execute_result"
    }
   ],
   "source": [
    "t4[1][-1] = 99\n",
    "t4"
   ]
  },
  {
   "attachments": {},
   "cell_type": "markdown",
   "metadata": {},
   "source": [
    "### **Sets**\n",
    "* A Set is a collection of data which is unordered and unindexed\n",
    "* In Python Sets are written within curly brackets `{}`\n",
    "* Sets does'nt allow duplicates value"
   ]
  },
  {
   "cell_type": "code",
   "execution_count": 218,
   "metadata": {},
   "outputs": [
    {
     "data": {
      "text/plain": [
       "set"
      ]
     },
     "execution_count": 218,
     "metadata": {},
     "output_type": "execute_result"
    }
   ],
   "source": [
    "s={1,2,3,5}     #A Set\n",
    "type(s)"
   ]
  },
  {
   "cell_type": "code",
   "execution_count": 220,
   "metadata": {},
   "outputs": [
    {
     "name": "stdout",
     "output_type": "stream",
     "text": [
      "{1, 2, 3, 5}\n"
     ]
    }
   ],
   "source": [
    "s1={1,5,5,9,1,2,3,1,4,7,9,2,8,7}    #void of Duplicate values\n",
    "print(s)"
   ]
  },
  {
   "cell_type": "code",
   "execution_count": 273,
   "metadata": {},
   "outputs": [
    {
     "data": {
      "text/plain": [
       "{1, 2, 3, 4, 5, 6, 7, 8}"
      ]
     },
     "execution_count": 273,
     "metadata": {},
     "output_type": "execute_result"
    }
   ],
   "source": [
    "# If we want to remove any duplicate values from tuple or list just we need to typecast to set.add\n",
    "\n",
    "l1 = [2,1,3,5,4,9,8,7,6,5,1,3,2,6,8,7]\n",
    "t1 = (1,1,2,3,4,4,5,6,7,8)\n",
    "\n",
    "set(t1)     #duplicate removed form tuples."
   ]
  },
  {
   "cell_type": "code",
   "execution_count": 274,
   "metadata": {},
   "outputs": [
    {
     "data": {
      "text/plain": [
       "{1, 2, 3, 4, 5, 6, 7, 8, 9}"
      ]
     },
     "execution_count": 274,
     "metadata": {},
     "output_type": "execute_result"
    }
   ],
   "source": [
    "set(l1)     #duplicates removed form lists."
   ]
  },
  {
   "cell_type": "code",
   "execution_count": 226,
   "metadata": {},
   "outputs": [],
   "source": [
    "s2 = {(1,2,6),'Gaurav',77,55,66}    #Only tuples are allowed within a set because of hasibility."
   ]
  },
  {
   "cell_type": "code",
   "execution_count": 229,
   "metadata": {},
   "outputs": [
    {
     "ename": "TypeError",
     "evalue": "'set' object is not subscriptable",
     "output_type": "error",
     "traceback": [
      "\u001b[1;31m---------------------------------------------------------------------------\u001b[0m",
      "\u001b[1;31mTypeError\u001b[0m                                 Traceback (most recent call last)",
      "\u001b[1;32md:\\VS Code\\PWSKILLS\\Python Programming\\Day-5.ipynb Cell 27\u001b[0m in \u001b[0;36m<cell line: 2>\u001b[1;34m()\u001b[0m\n\u001b[0;32m      <a href='vscode-notebook-cell:/d%3A/VS%20Code/PWSKILLS/Python%20Programming/Day-5.ipynb#Y224sZmlsZQ%3D%3D?line=0'>1</a>\u001b[0m \u001b[39m# As sets are unindexed so we can't accessed its element.\u001b[39;00m\n\u001b[1;32m----> <a href='vscode-notebook-cell:/d%3A/VS%20Code/PWSKILLS/Python%20Programming/Day-5.ipynb#Y224sZmlsZQ%3D%3D?line=1'>2</a>\u001b[0m s2[\u001b[39m2\u001b[39;49m]\n",
      "\u001b[1;31mTypeError\u001b[0m: 'set' object is not subscriptable"
     ]
    }
   ],
   "source": [
    "# As sets are unindexed so we can't accessed its element.\n",
    "s2[2]"
   ]
  },
  {
   "cell_type": "code",
   "execution_count": 232,
   "metadata": {},
   "outputs": [
    {
     "name": "stdout",
     "output_type": "stream",
     "text": [
      "Gaurav\n",
      "66\n",
      "55\n",
      "(1, 2, 6)\n",
      "77\n"
     ]
    }
   ],
   "source": [
    "# Accessing each element:\n",
    "for i in s2:\n",
    "    print(i)"
   ]
  },
  {
   "cell_type": "code",
   "execution_count": 272,
   "metadata": {},
   "outputs": [
    {
     "data": {
      "text/plain": [
       "5"
      ]
     },
     "execution_count": 272,
     "metadata": {},
     "output_type": "execute_result"
    }
   ],
   "source": [
    "# We can find the length of the set through len() function\n",
    "len(s2)"
   ]
  },
  {
   "attachments": {},
   "cell_type": "markdown",
   "metadata": {},
   "source": [
    "### In-built Function in Sets:"
   ]
  },
  {
   "attachments": {},
   "cell_type": "markdown",
   "metadata": {},
   "source": [
    "#### .add(Element): This function adds the element to the set."
   ]
  },
  {
   "cell_type": "code",
   "execution_count": 258,
   "metadata": {},
   "outputs": [],
   "source": [
    "s3={4,65,13,2,'Gaurabh'}"
   ]
  },
  {
   "cell_type": "code",
   "execution_count": 259,
   "metadata": {},
   "outputs": [
    {
     "data": {
      "text/plain": [
       "{13, 2, 4, 65, 'Chowdhury', 'Gaurabh'}"
      ]
     },
     "execution_count": 259,
     "metadata": {},
     "output_type": "execute_result"
    }
   ],
   "source": [
    "s3.add('Chowdhury')     #add the element randomly\n",
    "s3"
   ]
  },
  {
   "attachments": {},
   "cell_type": "markdown",
   "metadata": {},
   "source": [
    "#### .pop(Element): It returns the removed element from the end of the set, but the user is unaware of the removed element."
   ]
  },
  {
   "cell_type": "code",
   "execution_count": 260,
   "metadata": {},
   "outputs": [
    {
     "data": {
      "text/plain": [
       "65"
      ]
     },
     "execution_count": 260,
     "metadata": {},
     "output_type": "execute_result"
    }
   ],
   "source": [
    "s3.pop()    #removes the element"
   ]
  },
  {
   "cell_type": "code",
   "execution_count": 261,
   "metadata": {},
   "outputs": [
    {
     "data": {
      "text/plain": [
       "{13, 2, 4, 'Chowdhury', 'Gaurabh'}"
      ]
     },
     "execution_count": 261,
     "metadata": {},
     "output_type": "execute_result"
    }
   ],
   "source": [
    "s3"
   ]
  },
  {
   "cell_type": "code",
   "execution_count": 268,
   "metadata": {},
   "outputs": [],
   "source": [
    "s3.clear()      #it clear or erase the complete set"
   ]
  },
  {
   "cell_type": "code",
   "execution_count": 269,
   "metadata": {},
   "outputs": [
    {
     "data": {
      "text/plain": [
       "set()"
      ]
     },
     "execution_count": 269,
     "metadata": {},
     "output_type": "execute_result"
    }
   ],
   "source": [
    "s3"
   ]
  },
  {
   "attachments": {},
   "cell_type": "markdown",
   "metadata": {},
   "source": [
    "#### .update() To add more than one element we `.update()` method. We firstly create a list of element to insert update it to the set."
   ]
  },
  {
   "cell_type": "code",
   "execution_count": 270,
   "metadata": {},
   "outputs": [],
   "source": [
    "s4 = {1,5,9}\n",
    "s4.update(['Value1','Value2','Value3'])"
   ]
  },
  {
   "cell_type": "code",
   "execution_count": 271,
   "metadata": {},
   "outputs": [
    {
     "data": {
      "text/plain": [
       "{1, 5, 9, 'Value1', 'Value2', 'Value3'}"
      ]
     },
     "execution_count": 271,
     "metadata": {},
     "output_type": "execute_result"
    }
   ],
   "source": [
    "s4"
   ]
  },
  {
   "attachments": {},
   "cell_type": "markdown",
   "metadata": {},
   "source": [
    "### .remove() & .discard() methods in Python\n",
    "\n",
    "* To remove a Particular element from set we use .remove() or .discard()\n",
    "* The key difference between them is:\n",
    "> * If the element we want to remove does'nt exists *.remove()* will raise an error, while *.discard()* won't raise any error."
   ]
  },
  {
   "cell_type": "code",
   "execution_count": 284,
   "metadata": {},
   "outputs": [],
   "source": [
    "s5 = {1,5,9,'Python',7,'Machine Learning',5,3}"
   ]
  },
  {
   "cell_type": "code",
   "execution_count": 285,
   "metadata": {},
   "outputs": [
    {
     "data": {
      "text/plain": [
       "{1, 3, 5, 7, 9, 'Machine Learning'}"
      ]
     },
     "execution_count": 285,
     "metadata": {},
     "output_type": "execute_result"
    }
   ],
   "source": [
    "s5.remove('Python')\n",
    "s5"
   ]
  },
  {
   "cell_type": "code",
   "execution_count": 286,
   "metadata": {},
   "outputs": [
    {
     "ename": "KeyError",
     "evalue": "'Data Mining'",
     "output_type": "error",
     "traceback": [
      "\u001b[1;31m---------------------------------------------------------------------------\u001b[0m",
      "\u001b[1;31mKeyError\u001b[0m                                  Traceback (most recent call last)",
      "\u001b[1;32md:\\VS Code\\PWSKILLS\\Python Programming\\Day-5.ipynb Cell 47\u001b[0m in \u001b[0;36m<cell line: 1>\u001b[1;34m()\u001b[0m\n\u001b[1;32m----> <a href='vscode-notebook-cell:/d%3A/VS%20Code/PWSKILLS/Python%20Programming/Day-5.ipynb#Y245sZmlsZQ%3D%3D?line=0'>1</a>\u001b[0m s5\u001b[39m.\u001b[39;49mremove(\u001b[39m'\u001b[39;49m\u001b[39mData Mining\u001b[39;49m\u001b[39m'\u001b[39;49m)\n",
      "\u001b[1;31mKeyError\u001b[0m: 'Data Mining'"
     ]
    }
   ],
   "source": [
    "s5.remove('Data Mining')    #It will raise an Error"
   ]
  },
  {
   "cell_type": "code",
   "execution_count": 287,
   "metadata": {},
   "outputs": [
    {
     "data": {
      "text/plain": [
       "{1, 3, 7, 9, 'Machine Learning'}"
      ]
     },
     "execution_count": 287,
     "metadata": {},
     "output_type": "execute_result"
    }
   ],
   "source": [
    "s5.discard(5)\n",
    "s5"
   ]
  },
  {
   "cell_type": "code",
   "execution_count": 289,
   "metadata": {},
   "outputs": [],
   "source": [
    "s5.discard(99)  #Eventhough the element is not present it does'nt raise an Error"
   ]
  },
  {
   "attachments": {},
   "cell_type": "markdown",
   "metadata": {},
   "source": [
    "#### .difference(): It returns the difference between two or more sets."
   ]
  },
  {
   "cell_type": "code",
   "execution_count": 298,
   "metadata": {},
   "outputs": [
    {
     "data": {
      "text/plain": [
       "{4}"
      ]
     },
     "execution_count": 298,
     "metadata": {},
     "output_type": "execute_result"
    }
   ],
   "source": [
    "s11 = {1,2,3,4}\n",
    "s12 = {1,2,3,5}\n",
    "\n",
    "s11.difference(s12)     #it checks which element is present in s11 but not in s12.\n"
   ]
  },
  {
   "attachments": {},
   "cell_type": "markdown",
   "metadata": {},
   "source": [
    "#### .union(): It returns the set containing all elements of both sets"
   ]
  },
  {
   "cell_type": "code",
   "execution_count": 299,
   "metadata": {},
   "outputs": [
    {
     "data": {
      "text/plain": [
       "{1, 2, 3, 4, 5}"
      ]
     },
     "execution_count": 299,
     "metadata": {},
     "output_type": "execute_result"
    }
   ],
   "source": [
    "s11.union(s12)  #it merges both the sets"
   ]
  },
  {
   "attachments": {},
   "cell_type": "markdown",
   "metadata": {},
   "source": [
    "#### .intersection(): It returns a set with element common to both the set"
   ]
  },
  {
   "cell_type": "code",
   "execution_count": 304,
   "metadata": {},
   "outputs": [
    {
     "data": {
      "text/plain": [
       "{1, 2, 3}"
      ]
     },
     "execution_count": 304,
     "metadata": {},
     "output_type": "execute_result"
    }
   ],
   "source": [
    "s11.intersection(s12)   #it returns the common element"
   ]
  },
  {
   "attachments": {},
   "cell_type": "markdown",
   "metadata": {},
   "source": [
    "## **Dictionary**"
   ]
  },
  {
   "cell_type": "code",
   "execution_count": 34,
   "metadata": {},
   "outputs": [
    {
     "data": {
      "text/plain": [
       "dict"
      ]
     },
     "execution_count": 34,
     "metadata": {},
     "output_type": "execute_result"
    }
   ],
   "source": [
    "d={}                    #empty Dictionary\n",
    "type(d)"
   ]
  },
  {
   "cell_type": "code",
   "execution_count": 67,
   "metadata": {},
   "outputs": [
    {
     "data": {
      "text/plain": [
       "{'name': 'Gaurabh', 'Ph.no': 789754321, 'Email Id': 'example@gamil.com'}"
      ]
     },
     "execution_count": 67,
     "metadata": {},
     "output_type": "execute_result"
    }
   ],
   "source": [
    "d1 = {'name':\"Gaurabh\",'Ph.no':789754321,'Email Id':'example@gamil.com'}    #Dictionary\n",
    "d1"
   ]
  },
  {
   "attachments": {},
   "cell_type": "markdown",
   "metadata": {},
   "source": [
    "### Properties of a key in dictionary:\n",
    "* A key should always be UNIQUE.\n",
    "* Repitation of key is not allowed.\n",
    "* A key can be interger,floating number,String,boolean value but not Special Character (#,$,@...).\n",
    "* A key can only consider TUPLE."
   ]
  },
  {
   "cell_type": "code",
   "execution_count": 36,
   "metadata": {},
   "outputs": [
    {
     "data": {
      "text/plain": [
       "{'name': 'Gaurav'}"
      ]
     },
     "execution_count": 36,
     "metadata": {},
     "output_type": "execute_result"
    }
   ],
   "source": [
    "\n",
    "d2 = {'name':\"Gaurabh\",'name':\"Gaurav\"}     #here name is present twice so name variable is assigned with 'Gaurav'\n",
    "d2"
   ]
  },
  {
   "cell_type": "code",
   "execution_count": 37,
   "metadata": {},
   "outputs": [
    {
     "ename": "TypeError",
     "evalue": "unhashable type: 'list'",
     "output_type": "error",
     "traceback": [
      "\u001b[1;31m---------------------------------------------------------------------------\u001b[0m",
      "\u001b[1;31mTypeError\u001b[0m                                 Traceback (most recent call last)",
      "\u001b[1;32md:\\VS Code\\PWSKILLS\\Python Programming\\Day-5.ipynb Cell 32\u001b[0m in \u001b[0;36m<cell line: 1>\u001b[1;34m()\u001b[0m\n\u001b[1;32m----> <a href='vscode-notebook-cell:/d%3A/VS%20Code/PWSKILLS/Python%20Programming/Day-5.ipynb#X43sZmlsZQ%3D%3D?line=0'>1</a>\u001b[0m d3 \u001b[39m=\u001b[39m {[\u001b[39m1\u001b[39m,\u001b[39m2\u001b[39m,\u001b[39m3\u001b[39m]:\u001b[39m\"\u001b[39m\u001b[39mValues\u001b[39m\u001b[39m\"\u001b[39m}             \u001b[39m#a list can't be a key\u001b[39;00m\n\u001b[0;32m      <a href='vscode-notebook-cell:/d%3A/VS%20Code/PWSKILLS/Python%20Programming/Day-5.ipynb#X43sZmlsZQ%3D%3D?line=1'>2</a>\u001b[0m d3\n",
      "\u001b[1;31mTypeError\u001b[0m: unhashable type: 'list'"
     ]
    }
   ],
   "source": [
    "d3 = {[1,2,3]:\"Values\"}             #a list can't be a key\n",
    "d3"
   ]
  },
  {
   "cell_type": "code",
   "execution_count": 38,
   "metadata": {},
   "outputs": [
    {
     "data": {
      "text/plain": [
       "{(1, 5, 9): 'Values'}"
      ]
     },
     "execution_count": 38,
     "metadata": {},
     "output_type": "execute_result"
    }
   ],
   "source": [
    "d4 = {(1,5,9): 'Values'}        # tuple is allowed as a key\n",
    "d4"
   ]
  },
  {
   "cell_type": "code",
   "execution_count": 39,
   "metadata": {},
   "outputs": [
    {
     "ename": "TypeError",
     "evalue": "unhashable type: 'dict'",
     "output_type": "error",
     "traceback": [
      "\u001b[1;31m---------------------------------------------------------------------------\u001b[0m",
      "\u001b[1;31mTypeError\u001b[0m                                 Traceback (most recent call last)",
      "\u001b[1;32md:\\VS Code\\PWSKILLS\\Python Programming\\Day-5.ipynb Cell 34\u001b[0m in \u001b[0;36m<cell line: 1>\u001b[1;34m()\u001b[0m\n\u001b[1;32m----> <a href='vscode-notebook-cell:/d%3A/VS%20Code/PWSKILLS/Python%20Programming/Day-5.ipynb#X45sZmlsZQ%3D%3D?line=0'>1</a>\u001b[0m d5 \u001b[39m=\u001b[39m {{\u001b[39m'\u001b[39m\u001b[39mname\u001b[39m\u001b[39m'\u001b[39m:\u001b[39m'\u001b[39m\u001b[39mGaurabh\u001b[39m\u001b[39m'\u001b[39m}:\u001b[39mTrue\u001b[39;00m}\n\u001b[0;32m      <a href='vscode-notebook-cell:/d%3A/VS%20Code/PWSKILLS/Python%20Programming/Day-5.ipynb#X45sZmlsZQ%3D%3D?line=1'>2</a>\u001b[0m d5\n",
      "\u001b[1;31mTypeError\u001b[0m: unhashable type: 'dict'"
     ]
    }
   ],
   "source": [
    "d5 = {{'name':'Gaurabh'}:True}\n",
    "d5"
   ]
  },
  {
   "cell_type": "code",
   "execution_count": 40,
   "metadata": {},
   "outputs": [
    {
     "data": {
      "text/plain": [
       "{'Key': (1, 5, 9)}"
      ]
     },
     "execution_count": 40,
     "metadata": {},
     "output_type": "execute_result"
    }
   ],
   "source": [
    "d6={'Key':(1,5,9)}\n",
    "d6"
   ]
  },
  {
   "cell_type": "code",
   "execution_count": 41,
   "metadata": {},
   "outputs": [
    {
     "data": {
      "text/plain": [
       "{'Key': [1, 5, 9]}"
      ]
     },
     "execution_count": 41,
     "metadata": {},
     "output_type": "execute_result"
    }
   ],
   "source": [
    "d7={'Key':[1,5,9]}\n",
    "d7"
   ]
  },
  {
   "cell_type": "code",
   "execution_count": 42,
   "metadata": {},
   "outputs": [
    {
     "data": {
      "text/plain": [
       "{'Class 1': {1: 'Std1', 2: 'Std2', 3: 'Std3'}}"
      ]
     },
     "execution_count": 42,
     "metadata": {},
     "output_type": "execute_result"
    }
   ],
   "source": [
    "d8 = {'Class 1': {1: \"Std1\", 2: \"Std2\", 3: \"Std3\"}}\n",
    "d8"
   ]
  },
  {
   "cell_type": "code",
   "execution_count": 43,
   "metadata": {},
   "outputs": [
    {
     "data": {
      "text/plain": [
       "{'Class 1': {1: {'name': 'Std1', 'Mb no-': 1234567, 'Address': 'jfasoeif'},\n",
       "  2: 'Std2',\n",
       "  3: 'Std3'}}"
      ]
     },
     "execution_count": 43,
     "metadata": {},
     "output_type": "execute_result"
    }
   ],
   "source": [
    "d9 = {'Class 1': {1: {'name':'Std1','Mb no-':1234567,'Address':'jfasoeif'}, 2: \"Std2\", 3: \"Std3\"}}\n",
    "d9\n"
   ]
  },
  {
   "cell_type": "code",
   "execution_count": 44,
   "metadata": {},
   "outputs": [
    {
     "data": {
      "text/plain": [
       "{'Class 1': {1: {'name': 'Std1', 'Ph no-': 123489875, 'Address': 'asdflh'},\n",
       "  2: {'name': 'Std2', 'Ph no-': 977454475, 'Address': ',zxcmvn'},\n",
       "  3: {'name': 'Std3', 'Ph no-': 119876575, 'Address': 'qweriu'}},\n",
       " 'Class 2': {4: {'name': 'Std4', 'Ph no-': 123987875, 'Address': 'poiyre'},\n",
       "  5: {'name': 'Std5', 'Ph no-': 98746515, 'Address': 'lkjgh'},\n",
       "  6: {'name': 'Std6', 'Ph no-': 75335798, 'Address': 'mnbvc'}}}"
      ]
     },
     "execution_count": 44,
     "metadata": {},
     "output_type": "execute_result"
    }
   ],
   "source": [
    "# Nested Dictionary\n",
    "\n",
    "d10 = {\n",
    "    'Class 1': \n",
    "                {1: {'name': 'Std1', 'Ph no-': 123489875, 'Address': 'asdflh'},\n",
    "                2: {'name': 'Std2', 'Ph no-': 977454475, 'Address': ',zxcmvn'},\n",
    "                3: {'name': 'Std3', 'Ph no-': 119876575, 'Address': 'qweriu'}},\n",
    "    'Class 2': \n",
    "                {4: {'name': 'Std4', 'Ph no-': 123987875, 'Address': 'poiyre'},\n",
    "                5: {'name': 'Std5', 'Ph no-': 98746515, 'Address': 'lkjgh'},\n",
    "                6: {'name': 'Std6', 'Ph no-': 75335798, 'Address': 'mnbvc'}},\n",
    "}\n",
    "d10"
   ]
  },
  {
   "cell_type": "code",
   "execution_count": 45,
   "metadata": {},
   "outputs": [
    {
     "data": {
      "text/plain": [
       "{'Course_Name': ['DBMS', 'Java', 'Data Mining'],\n",
       " 'Course_Code': ('CC-11', 'CC12', 'DSE-A2'),\n",
       " 'Mentor_Name': {'PB', 'SD', 'SH'}}"
      ]
     },
     "execution_count": 45,
     "metadata": {},
     "output_type": "execute_result"
    }
   ],
   "source": [
    "# A dictionary with list,tuple and sets\n",
    "d11 = {\n",
    "    'Course_Name': ['DBMS', 'Java', 'Data Mining'],\n",
    "    'Course_Code': ('CC-11', 'CC12', 'DSE-A2'),\n",
    "    'Mentor_Name': {'SH', 'PB', 'SD'},\n",
    "}\n",
    "d11"
   ]
  },
  {
   "cell_type": "code",
   "execution_count": 46,
   "metadata": {},
   "outputs": [],
   "source": [
    "# Item assignment is possible in Dictionary\n",
    "d11['Timing']= (10, 12, 1)      #assigning a key-value pair"
   ]
  },
  {
   "cell_type": "code",
   "execution_count": 47,
   "metadata": {},
   "outputs": [
    {
     "data": {
      "text/plain": [
       "{'Course_Name': ['DBMS', 'Java', 'Data Mining'],\n",
       " 'Course_Code': ('CC-11', 'CC12', 'DSE-A2'),\n",
       " 'Mentor_Name': {'PB', 'SD', 'SH'},\n",
       " 'Timing': (10, 12, 1)}"
      ]
     },
     "execution_count": 47,
     "metadata": {},
     "output_type": "execute_result"
    }
   ],
   "source": [
    "d11"
   ]
  },
  {
   "cell_type": "code",
   "execution_count": 48,
   "metadata": {},
   "outputs": [
    {
     "data": {
      "text/plain": [
       "{'Class 1': {1: 'Std1', 2: 'Std2', 3: 'Std3'}}"
      ]
     },
     "execution_count": 48,
     "metadata": {},
     "output_type": "execute_result"
    }
   ],
   "source": [
    "d8"
   ]
  },
  {
   "cell_type": "code",
   "execution_count": 49,
   "metadata": {},
   "outputs": [
    {
     "data": {
      "text/plain": [
       "'Std1'"
      ]
     },
     "execution_count": 49,
     "metadata": {},
     "output_type": "execute_result"
    }
   ],
   "source": [
    "d8['Class 1'][1]"
   ]
  },
  {
   "cell_type": "code",
   "execution_count": 50,
   "metadata": {},
   "outputs": [],
   "source": [
    "d8['Key1'] = \"ABC\"      #inserting a key-value pair"
   ]
  },
  {
   "cell_type": "code",
   "execution_count": 51,
   "metadata": {},
   "outputs": [
    {
     "data": {
      "text/plain": [
       "{'Class 1': {1: 'Std1', 2: 'Std2', 3: 'Std3'}}"
      ]
     },
     "execution_count": 51,
     "metadata": {},
     "output_type": "execute_result"
    }
   ],
   "source": [
    "del d8['Key1']          #deleting a particular key-value pair\n",
    "d8"
   ]
  },
  {
   "cell_type": "code",
   "execution_count": 52,
   "metadata": {},
   "outputs": [
    {
     "data": {
      "text/plain": [
       "{'Key': (1, 5, 9)}"
      ]
     },
     "execution_count": 52,
     "metadata": {},
     "output_type": "execute_result"
    }
   ],
   "source": [
    "d6"
   ]
  },
  {
   "attachments": {},
   "cell_type": "markdown",
   "metadata": {},
   "source": [
    "### Dictionary Methods"
   ]
  },
  {
   "cell_type": "code",
   "execution_count": 53,
   "metadata": {},
   "outputs": [
    {
     "data": {
      "text/plain": [
       "{}"
      ]
     },
     "execution_count": 53,
     "metadata": {},
     "output_type": "execute_result"
    }
   ],
   "source": [
    "d6.clear()              #clearing the element in a dictionary\n",
    "d6"
   ]
  },
  {
   "cell_type": "code",
   "execution_count": 54,
   "metadata": {},
   "outputs": [
    {
     "data": {
      "text/plain": [
       "4"
      ]
     },
     "execution_count": 54,
     "metadata": {},
     "output_type": "execute_result"
    }
   ],
   "source": [
    "len(d11)                #length of a dictionary"
   ]
  },
  {
   "cell_type": "code",
   "execution_count": 128,
   "metadata": {},
   "outputs": [],
   "source": [
    "d11[\"Student_Name\"] = \"Gaurabh Chowdhury\""
   ]
  },
  {
   "cell_type": "code",
   "execution_count": 131,
   "metadata": {},
   "outputs": [
    {
     "data": {
      "text/plain": [
       "{'Course_Name': ['DBMS', 'Java', 'Data Mining'],\n",
       " 'Course_Code': ('CC-11', 'CC12', 'DSE-A2'),\n",
       " 'Mentor_Name': {'PB', 'SD', 'SH'},\n",
       " 'Timing': (10, 12, 1),\n",
       " 'Student_Name': 'Gaurabh Chowdhury'}"
      ]
     },
     "execution_count": 131,
     "metadata": {},
     "output_type": "execute_result"
    }
   ],
   "source": [
    "d11"
   ]
  },
  {
   "cell_type": "code",
   "execution_count": 135,
   "metadata": {},
   "outputs": [
    {
     "data": {
      "text/plain": [
       "'GAURABH CHOWDHURY'"
      ]
     },
     "execution_count": 135,
     "metadata": {},
     "output_type": "execute_result"
    }
   ],
   "source": [
    "d11['Student_Name'].upper()     #it convert the string to upper case"
   ]
  },
  {
   "cell_type": "code",
   "execution_count": 55,
   "metadata": {},
   "outputs": [
    {
     "data": {
      "text/plain": [
       "dict_items([('Course_Name', ['DBMS', 'Java', 'Data Mining']), ('Course_Code', ('CC-11', 'CC12', 'DSE-A2')), ('Mentor_Name', {'SD', 'PB', 'SH'}), ('Timing', (10, 12, 1))])"
      ]
     },
     "execution_count": 55,
     "metadata": {},
     "output_type": "execute_result"
    }
   ],
   "source": [
    "d11.items()             #it prints all the key and values"
   ]
  },
  {
   "cell_type": "code",
   "execution_count": 56,
   "metadata": {},
   "outputs": [
    {
     "data": {
      "text/plain": [
       "[('Course_Name', ['DBMS', 'Java', 'Data Mining']),\n",
       " ('Course_Code', ('CC-11', 'CC12', 'DSE-A2')),\n",
       " ('Mentor_Name', {'PB', 'SD', 'SH'}),\n",
       " ('Timing', (10, 12, 1))]"
      ]
     },
     "execution_count": 56,
     "metadata": {},
     "output_type": "execute_result"
    }
   ],
   "source": [
    "list(d11.items())       #printing items in list form"
   ]
  },
  {
   "cell_type": "code",
   "execution_count": 57,
   "metadata": {},
   "outputs": [
    {
     "name": "stdout",
     "output_type": "stream",
     "text": [
      "('Course_Name', ['DBMS', 'Java', 'Data Mining'])\n",
      "('Course_Code', ('CC-11', 'CC12', 'DSE-A2'))\n",
      "('Mentor_Name', {'SD', 'PB', 'SH'})\n",
      "('Timing', (10, 12, 1))\n"
     ]
    }
   ],
   "source": [
    "it = d11.items()        #printing items in different way\n",
    "for i in it:\n",
    "    print(i)"
   ]
  },
  {
   "cell_type": "code",
   "execution_count": 58,
   "metadata": {},
   "outputs": [
    {
     "data": {
      "text/plain": [
       "dict_keys(['Course_Name', 'Course_Code', 'Mentor_Name', 'Timing'])"
      ]
     },
     "execution_count": 58,
     "metadata": {},
     "output_type": "execute_result"
    }
   ],
   "source": [
    "d11.keys()              #accessing the keys of dictionary"
   ]
  },
  {
   "cell_type": "code",
   "execution_count": 59,
   "metadata": {},
   "outputs": [
    {
     "data": {
      "text/plain": [
       "dict_values([['DBMS', 'Java', 'Data Mining'], ('CC-11', 'CC12', 'DSE-A2'), {'SD', 'PB', 'SH'}, (10, 12, 1)])"
      ]
     },
     "execution_count": 59,
     "metadata": {},
     "output_type": "execute_result"
    }
   ],
   "source": [
    "d11.values()            #accessing the values of dictionary"
   ]
  },
  {
   "cell_type": "code",
   "execution_count": 81,
   "metadata": {},
   "outputs": [
    {
     "name": "stdout",
     "output_type": "stream",
     "text": [
      "Deleting the 'Ph.no' value: 789754321\n",
      "{'name': 'Gaurabh', 'Email Id': 'example@gamil.com'}\n"
     ]
    }
   ],
   "source": [
    "# Removing the items form dictionary\n",
    "\n",
    "print(f\"Deleting the 'Ph.no' value: {d1.pop('Ph.no')}\")     #removing the Ph.no record and shows its value after deleting it\n",
    "print(d1)"
   ]
  },
  {
   "cell_type": "code",
   "execution_count": 82,
   "metadata": {},
   "outputs": [
    {
     "name": "stdout",
     "output_type": "stream",
     "text": [
      "Last record is Deleted: ('Email Id', 'example@gamil.com')\n",
      "{'name': 'Gaurabh'}\n"
     ]
    }
   ],
   "source": [
    "print(f\"Last record is Deleted: {d1.popitem()}\")     #removes the last record and shows the deleted record\n",
    "print(d1)"
   ]
  },
  {
   "cell_type": "code",
   "execution_count": 85,
   "metadata": {},
   "outputs": [
    {
     "name": "stdout",
     "output_type": "stream",
     "text": [
      "{}\n"
     ]
    }
   ],
   "source": [
    "del d1['name']      #it removes the 'name' record\n",
    "print(d1)"
   ]
  },
  {
   "cell_type": "code",
   "execution_count": 86,
   "metadata": {},
   "outputs": [],
   "source": [
    "del d1"
   ]
  },
  {
   "cell_type": "code",
   "execution_count": 87,
   "metadata": {},
   "outputs": [
    {
     "ename": "NameError",
     "evalue": "name 'd1' is not defined",
     "output_type": "error",
     "traceback": [
      "\u001b[1;31m---------------------------------------------------------------------------\u001b[0m",
      "\u001b[1;31mNameError\u001b[0m                                 Traceback (most recent call last)",
      "\u001b[1;32md:\\VS Code\\PWSKILLS\\Python Programming\\Day-5.ipynb Cell 61\u001b[0m in \u001b[0;36m<cell line: 1>\u001b[1;34m()\u001b[0m\n\u001b[1;32m----> <a href='vscode-notebook-cell:/d%3A/VS%20Code/PWSKILLS/Python%20Programming/Day-5.ipynb#Y112sZmlsZQ%3D%3D?line=0'>1</a>\u001b[0m d1\n",
      "\u001b[1;31mNameError\u001b[0m: name 'd1' is not defined"
     ]
    }
   ],
   "source": [
    "d1"
   ]
  },
  {
   "cell_type": "code",
   "execution_count": 102,
   "metadata": {},
   "outputs": [
    {
     "data": {
      "text/plain": [
       "['ML', 'DP', 'DM']"
      ]
     },
     "execution_count": 102,
     "metadata": {},
     "output_type": "execute_result"
    }
   ],
   "source": [
    "# .setdefault() method:\n",
    "# It returns the value of a key\n",
    "# If a key is not present it creates with default value\n",
    "d_new = {'R1':'Arun','R2':'Gaurav','R3':'Yash'}\n",
    "d_new.setdefault('Topics',['ML','DP','DM'])\n"
   ]
  },
  {
   "cell_type": "code",
   "execution_count": 103,
   "metadata": {},
   "outputs": [
    {
     "data": {
      "text/plain": [
       "{'R1': 'Arun', 'R2': 'Gaurav', 'R3': 'Yash', 'Topics': ['ML', 'DP', 'DM']}"
      ]
     },
     "execution_count": 103,
     "metadata": {},
     "output_type": "execute_result"
    }
   ],
   "source": [
    "d_new"
   ]
  },
  {
   "cell_type": "code",
   "execution_count": 105,
   "metadata": {},
   "outputs": [],
   "source": [
    "d23 = d_new.copy()      #it copies the content of a dictionary to a new dictionary.They both have different memory address which ensures that if in future if we change the original dictionary then its copy won't be affected."
   ]
  },
  {
   "cell_type": "code",
   "execution_count": 106,
   "metadata": {},
   "outputs": [
    {
     "data": {
      "text/plain": [
       "{'R1': 'Arun', 'R2': 'Gaurav', 'R3': 'Yash', 'Topics': ['ML', 'DP', 'DM']}"
      ]
     },
     "execution_count": 106,
     "metadata": {},
     "output_type": "execute_result"
    }
   ],
   "source": [
    "d23"
   ]
  },
  {
   "cell_type": "code",
   "execution_count": 153,
   "metadata": {},
   "outputs": [],
   "source": [
    "# Merging two Dictionary\n",
    "dict1 = {'key1': 'Value1', 'key2': 'Value2'}\n",
    "dict2 = {'key3': 'Value3', 'Key4': 'Value4'}\n"
   ]
  },
  {
   "cell_type": "code",
   "execution_count": 140,
   "metadata": {},
   "outputs": [],
   "source": [
    "dict1.update(dict2)         #dict2 is merge with dict1 and store in dict1"
   ]
  },
  {
   "cell_type": "code",
   "execution_count": 141,
   "metadata": {},
   "outputs": [
    {
     "data": {
      "text/plain": [
       "{'key1': 'Value1', 'key2': 'Value2', 'key3': 'Value3', 'Key4': 'Value4'}"
      ]
     },
     "execution_count": 141,
     "metadata": {},
     "output_type": "execute_result"
    }
   ],
   "source": [
    "dict1"
   ]
  },
  {
   "cell_type": "code",
   "execution_count": 142,
   "metadata": {},
   "outputs": [
    {
     "data": {
      "text/plain": [
       "{'key3': 'Value3', 'Key4': 'Value4'}"
      ]
     },
     "execution_count": 142,
     "metadata": {},
     "output_type": "execute_result"
    }
   ],
   "source": [
    "dict2"
   ]
  },
  {
   "attachments": {},
   "cell_type": "markdown",
   "metadata": {},
   "source": [
    "### .get() method\n",
    "\n",
    "* As we have discussed earlier, that `D['Key']`\n",
    "this statement returns the corresponding value. We have a method similar to this i.e., get() method.\n",
    "* It simply returns the value of that key.\n",
    "* **.get() and D['Key']** are similar to each other. Only the difference is that\n",
    "> * when we find a key which is not present in the dictionary  `.get()` does'nt raise an error but `D['Key']` raise an error.\n"
   ]
  },
  {
   "cell_type": "code",
   "execution_count": 149,
   "metadata": {},
   "outputs": [
    {
     "data": {
      "text/plain": [
       "'Value1'"
      ]
     },
     "execution_count": 149,
     "metadata": {},
     "output_type": "execute_result"
    }
   ],
   "source": [
    "dict1.get('key1')       #it returns the value corresponding to that"
   ]
  },
  {
   "cell_type": "code",
   "execution_count": 150,
   "metadata": {},
   "outputs": [],
   "source": [
    "dict1.get('key16')      #Did'nt raise error when a key is not present"
   ]
  },
  {
   "cell_type": "code",
   "execution_count": 157,
   "metadata": {},
   "outputs": [
    {
     "ename": "KeyError",
     "evalue": "'key1'",
     "output_type": "error",
     "traceback": [
      "\u001b[1;31m---------------------------------------------------------------------------\u001b[0m",
      "\u001b[1;31mKeyError\u001b[0m                                  Traceback (most recent call last)",
      "\u001b[1;32md:\\VS Code\\PWSKILLS\\Python Programming\\Day-5.ipynb Cell 75\u001b[0m in \u001b[0;36m<cell line: 1>\u001b[1;34m()\u001b[0m\n\u001b[1;32m----> <a href='vscode-notebook-cell:/d%3A/VS%20Code/PWSKILLS/Python%20Programming/Day-5.ipynb#Y155sZmlsZQ%3D%3D?line=0'>1</a>\u001b[0m dict2[\u001b[39m'\u001b[39;49m\u001b[39mkey1\u001b[39;49m\u001b[39m'\u001b[39;49m]\n",
      "\u001b[1;31mKeyError\u001b[0m: 'key1'"
     ]
    }
   ],
   "source": [
    "dict2['key1']           #Raises an Error"
   ]
  },
  {
   "cell_type": "code",
   "execution_count": 158,
   "metadata": {},
   "outputs": [
    {
     "data": {
      "text/plain": [
       "'Value1'"
      ]
     },
     "execution_count": 158,
     "metadata": {},
     "output_type": "execute_result"
    }
   ],
   "source": [
    "dict1['key1']"
   ]
  },
  {
   "attachments": {},
   "cell_type": "markdown",
   "metadata": {},
   "source": [
    "### Dictionary Comprehension"
   ]
  },
  {
   "cell_type": "code",
   "execution_count": 160,
   "metadata": {},
   "outputs": [
    {
     "data": {
      "text/plain": [
       "{1, 2, 3, 4, 5, 6, 7, 8, 9, 10}"
      ]
     },
     "execution_count": 160,
     "metadata": {},
     "output_type": "execute_result"
    }
   ],
   "source": [
    "{i for i in range(1,11)}"
   ]
  },
  {
   "cell_type": "code",
   "execution_count": 178,
   "metadata": {},
   "outputs": [
    {
     "name": "stdout",
     "output_type": "stream",
     "text": [
      "{1: 1, 2: 4, 3: 9, 4: 16, 5: 25, 6: 36, 7: 49, 8: 64, 9: 81, 10: 100}\n"
     ]
    }
   ],
   "source": [
    "d_sq = {i : i**2  for i in range(1,11)}    #Printing the square from (1-10)\n",
    "print(d_sq)"
   ]
  },
  {
   "cell_type": "code",
   "execution_count": 215,
   "metadata": {},
   "outputs": [
    {
     "data": {
      "text/plain": [
       "{1: 'ODD',\n",
       " 2: 4,\n",
       " 3: 'ODD',\n",
       " 4: 16,\n",
       " 5: 'ODD',\n",
       " 6: 36,\n",
       " 7: 'ODD',\n",
       " 8: 64,\n",
       " 9: 'ODD',\n",
       " 10: 100}"
      ]
     },
     "execution_count": 215,
     "metadata": {},
     "output_type": "execute_result"
    }
   ],
   "source": [
    "{i : d_sq[i] if i%2 == 0 else 'ODD' for i in d_sq.keys()}       #fetching even number square"
   ]
  },
  {
   "cell_type": "code",
   "execution_count": 199,
   "metadata": {},
   "outputs": [
    {
     "name": "stdout",
     "output_type": "stream",
     "text": [
      "2  :  4\n",
      "4  :  16\n",
      "6  :  36\n",
      "8  :  64\n",
      "10  :  100\n"
     ]
    }
   ],
   "source": [
    "# Fetching the even number squares only\n",
    "for i in d_sq.keys():\n",
    "    if i%2 == 0:\n",
    "        print(i,\" : \",d_sq[i])\n",
    "    "
   ]
  },
  {
   "attachments": {},
   "cell_type": "markdown",
   "metadata": {},
   "source": [
    "### .fromkeys() method: \n",
    "* It creates a new dictionary with keys iterable\n",
    "* It maps the key with its value"
   ]
  },
  {
   "cell_type": "code",
   "execution_count": 109,
   "metadata": {},
   "outputs": [
    {
     "data": {
      "text/plain": [
       "{1: [-1], 2: [-1], 3: [-1], 4: [-1], 5: [-1]}"
      ]
     },
     "execution_count": 109,
     "metadata": {},
     "output_type": "execute_result"
    }
   ],
   "source": [
    "\n",
    "seq = (1,2,3,4,5)\n",
    "list = [-1]\n",
    "\n",
    "dict1.fromkeys(seq,list)"
   ]
  },
  {
   "cell_type": "code",
   "execution_count": 110,
   "metadata": {},
   "outputs": [
    {
     "data": {
      "text/plain": [
       "{'d_new': {'R1': 'Arun', 'R2': 'Gaurav', 'R3': 'Yash'},\n",
       " 'd_new1': {'R4': 'Govind', 'R5': 'Harsh', 'R6': 'Hardik'},\n",
       " 'd_new2': {'R7': 'Varun', 'R8': 'Umesh', 'R9': 'Chirag'}}"
      ]
     },
     "execution_count": 110,
     "metadata": {},
     "output_type": "execute_result"
    }
   ],
   "source": [
    "d_main = {\n",
    "    'd_new': {'R1': 'Arun', 'R2': 'Gaurav', 'R3': 'Yash'},\n",
    "    'd_new1': {'R4': 'Govind', 'R5': 'Harsh', 'R6': 'Hardik'},\n",
    "    'd_new2': {'R7': 'Varun', 'R8': 'Umesh', 'R9': 'Chirag'}\n",
    "}\n",
    "\n",
    "d_main"
   ]
  }
 ],
 "metadata": {
  "kernelspec": {
   "display_name": "Python 3",
   "language": "python",
   "name": "python3"
  },
  "language_info": {
   "codemirror_mode": {
    "name": "ipython",
    "version": 3
   },
   "file_extension": ".py",
   "mimetype": "text/x-python",
   "name": "python",
   "nbconvert_exporter": "python",
   "pygments_lexer": "ipython3",
   "version": "3.11.2"
  },
  "orig_nbformat": 4,
  "vscode": {
   "interpreter": {
    "hash": "bf2765f521931e2f19f12976575e4735ff3b02b38699a1c8a104e77ac4d978bc"
   }
  }
 },
 "nbformat": 4,
 "nbformat_minor": 2
}

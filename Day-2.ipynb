{
 "cells": [
  {
   "attachments": {},
   "cell_type": "markdown",
   "metadata": {},
   "source": [
    "# **Print Statements in Python:**\n",
    "#### 1. print(): it prints the statement within \" \" or  ' '"
   ]
  },
  {
   "cell_type": "code",
   "execution_count": 1,
   "metadata": {},
   "outputs": [
    {
     "name": "stdout",
     "output_type": "stream",
     "text": [
      "Hello World\n"
     ]
    }
   ],
   "source": [
    "print('Hello World')\n"
   ]
  },
  {
   "attachments": {},
   "cell_type": "markdown",
   "metadata": {},
   "source": [
    "#### 2. f string: It Prints the value of any variable written within (Curly Braces) {}"
   ]
  },
  {
   "cell_type": "code",
   "execution_count": 4,
   "metadata": {},
   "outputs": [
    {
     "name": "stdout",
     "output_type": "stream",
     "text": [
      "My name is Gaurabh\n"
     ]
    }
   ],
   "source": [
    "name = \"Gaurabh\"\n",
    "print(f\"My name is {name}.\")\n"
   ]
  },
  {
   "attachments": {},
   "cell_type": "markdown",
   "metadata": {},
   "source": [
    "#### 3. .format(): It takes the parameter and prints its value within these curly braces ('{}'). In which order the parameters are given in that order it prints its value."
   ]
  },
  {
   "cell_type": "code",
   "execution_count": 5,
   "metadata": {},
   "outputs": [
    {
     "name": "stdout",
     "output_type": "stream",
     "text": [
      "My name is Gaurabh and age is 22\n"
     ]
    }
   ],
   "source": [
    "age = 22\n",
    "print(\"My name is {} and age is {}.\".format(name, age))\n"
   ]
  },
  {
   "attachments": {},
   "cell_type": "markdown",
   "metadata": {},
   "source": [
    "##### Sometimes there are 100s of variable to be printed so in that case we use **placeholder**, which means we can create our own variable and we will assign it in .format()"
   ]
  },
  {
   "cell_type": "code",
   "execution_count": 8,
   "metadata": {},
   "outputs": [
    {
     "name": "stdout",
     "output_type": "stream",
     "text": [
      "My name is Gaurabh and age is 22.\n",
      "My name is Gaurabh and age is 22.\n"
     ]
    }
   ],
   "source": [
    "# placeholder\n",
    "print(\"My name is {firstname} and age is {firstage}.\".format(\n",
    "    firstname=name, firstage=age))\n",
    "\n",
    "# now we won't have to worry about the sequence as we have use placeholders\n",
    "print(\"My name is {firstname} and age is {firstage}.\".format(\n",
    "    firstage=age, firstname=name))\n"
   ]
  },
  {
   "attachments": {},
   "cell_type": "markdown",
   "metadata": {},
   "source": [
    "Practice:\n"
   ]
  },
  {
   "cell_type": "code",
   "execution_count": 11,
   "metadata": {},
   "outputs": [
    {
     "name": "stdout",
     "output_type": "stream",
     "text": [
      "My age is 22 and I have completed: My degree of B.Sc with the name of Gaurabh.\n"
     ]
    }
   ],
   "source": [
    "name = 'Gaurabh'\n",
    "age = 22\n",
    "Degree = 'B.Sc'\n",
    "\n",
    "print(\"My age is {} and I have completed: My degree of {} with the name of {}.\".format(\n",
    "    age, Degree, name))\n"
   ]
  },
  {
   "attachments": {},
   "cell_type": "markdown",
   "metadata": {},
   "source": [
    "## **Control Flow:**\n",
    "### Decision Making Statement:\n",
    "* 1. if Statement: When the `if` condition becomes True it just execute the if block"
   ]
  },
  {
   "cell_type": "code",
   "execution_count": 17,
   "metadata": {},
   "outputs": [
    {
     "name": "stdout",
     "output_type": "stream",
     "text": [
      "Your are allowed to vote.\n"
     ]
    }
   ],
   "source": [
    "age = 20\n",
    "if age >= 18:\n",
    "    print(\"Your are allowed to vote.\")\n"
   ]
  },
  {
   "cell_type": "code",
   "execution_count": 25,
   "metadata": {},
   "outputs": [
    {
     "name": "stdout",
     "output_type": "stream",
     "text": [
      "You are Young Blood\n"
     ]
    }
   ],
   "source": [
    "# Task:\n",
    "# Take a input of age\n",
    "# Check Whether age >=18 and age <=45\n",
    "# display a message you are YOUNG BLOOD\n",
    "\n",
    "\n",
    "age = int(input(\"Enter your age: \"))\n",
    "if (age >= 18 and age <= 45):\n",
    "    print(\"You are Young Blood\")\n"
   ]
  },
  {
   "attachments": {},
   "cell_type": "markdown",
   "metadata": {},
   "source": [
    "* if-else Statement: When if statement becomes false the `else` block is automatically executed."
   ]
  },
  {
   "cell_type": "code",
   "execution_count": 29,
   "metadata": {},
   "outputs": [
    {
     "name": "stdout",
     "output_type": "stream",
     "text": [
      "Your age: 26\n",
      "You are Young Blood\n"
     ]
    }
   ],
   "source": [
    "age = int(input(\"Enter your age: \"))\n",
    "if (age >= 18 and age <= 45):\n",
    "    print(f\"Your age: {age}\")\n",
    "    print(\"You are Young Blood\")\n",
    "else:\n",
    "    print(f\"Your age: {age}\")\n",
    "    print(\"Thank You we will let you know\")\n"
   ]
  },
  {
   "cell_type": "code",
   "execution_count": 41,
   "metadata": {},
   "outputs": [
    {
     "name": "stdout",
     "output_type": "stream",
     "text": [
      "The Price of the Product is: 111.3\n"
     ]
    }
   ],
   "source": [
    "# Task:\n",
    "# mall - take the input\n",
    "# product >= 1000 20% off\n",
    "# print product price\n",
    "# product <= 1000 30% off\n",
    "# print product price\n",
    "\n",
    "\n",
    "price = int(input(\"Enter the Product Price: \"))\n",
    "if price >= 1000:\n",
    "    print(\"The Price of the Product is: {}\".format(price*0.8))\n",
    "else:\n",
    "    print(\"The Price of the Product is: {}\".format(price*0.7))\n"
   ]
  },
  {
   "attachments": {},
   "cell_type": "markdown",
   "metadata": {},
   "source": [
    "* 3. elif Statement: "
   ]
  },
  {
   "cell_type": "code",
   "execution_count": null,
   "metadata": {},
   "outputs": [],
   "source": [
    "# Task:\n",
    "# mall - take the input\n",
    "# product >= 3000 20% off\n",
    "# print product price\n",
    "# product >= 2000 and <= 3000 30% off\n",
    "# print product price\n",
    "# product >= 100 and <= 2000 40% off\n",
    "# print product price\n"
   ]
  },
  {
   "cell_type": "code",
   "execution_count": 44,
   "metadata": {},
   "outputs": [
    {
     "name": "stdout",
     "output_type": "stream",
     "text": [
      "The Price of the Product is: 4000.0\n"
     ]
    }
   ],
   "source": [
    "price = int(input(\"Enter the Product Price: \"))\n",
    "if price >= 3000:\n",
    "    print(\"The Price of the Product is: {}\".format(price*0.8))\n",
    "elif price >= 2000 and price <= 3000:\n",
    "    print(\"The Price of the Product is: {}\".format(price*0.7))\n",
    "elif price >= 100 and price <= 2000:\n",
    "    print(\"The Price of the Product is: {}\".format(price*0.6))\n",
    "else:\n",
    "    print(\"Let's Drink Tea\")\n"
   ]
  },
  {
   "attachments": {},
   "cell_type": "markdown",
   "metadata": {},
   "source": [
    "* 4. Nested-if Statement: Within a `if-else` statement when we want to check some other condition, in that situation Nested if-else is used.\n"
   ]
  },
  {
   "cell_type": "code",
   "execution_count": null,
   "metadata": {},
   "outputs": [],
   "source": [
    "# Task:\n",
    "# mall - take the input\n",
    "# product >= 3000 20% off\n",
    "# print product price\n",
    "# product == 2999 additional gift\n",
    "# product >= 2000 and <= 3000 30% off\n",
    "# print product price\n",
    "# product >= 100 and <= 2000 40% off\n",
    "# print product price\n"
   ]
  },
  {
   "cell_type": "code",
   "execution_count": 48,
   "metadata": {},
   "outputs": [
    {
     "name": "stdout",
     "output_type": "stream",
     "text": [
      "The Price of the Product is: 1400.0\n"
     ]
    }
   ],
   "source": [
    "price = int(input(\"Enter the Product Price: \"))\n",
    "if price >= 3000:\n",
    "    if price == 4000:\n",
    "        print(\"Congratulation! You won a Goa Trip Pass\")\n",
    "    print(\"The Price of the Product is: {}\".format(price*0.8))\n",
    "elif price >= 2000 and price <= 3000:\n",
    "    if price == 2999:\n",
    "        print(\"Congrats! You get one addition Gift.\")\n",
    "    print(\"The Price of the Product is: {}\".format(price*0.7))\n",
    "elif price >= 100 and price < 2000:\n",
    "    print(\"The Price of the Product is: {}\".format(price*0.6))\n",
    "else:\n",
    "    print(\"Let's Drink Tea\")\n"
   ]
  },
  {
   "attachments": {},
   "cell_type": "markdown",
   "metadata": {},
   "source": [
    "* 5. Single Statement Suites: "
   ]
  },
  {
   "cell_type": "code",
   "execution_count": 2,
   "metadata": {},
   "outputs": [
    {
     "name": "stdout",
     "output_type": "stream",
     "text": [
      "Your value is greater than 999\n"
     ]
    }
   ],
   "source": [
    "val = int(input(\"Enter the value: \"))\n",
    "if (val >= 999):\n",
    "    print(\"Your value is greater than 999\")\n",
    "else:\n",
    "    print(\"Your value is less than 999\")\n"
   ]
  },
  {
   "attachments": {},
   "cell_type": "markdown",
   "metadata": {},
   "source": [
    "# **Loop Statements**\n",
    "* In Loops statements are *sequentially* executed one after another.\n",
    "* When we want to execute a block of code `n` number of times we use loops.\n",
    "=======================================================\n",
    "#### Several topics in Loops:\n",
    "1. While loop\n",
    "2. for loop\n",
    "3. Nested loop\n",
    "4. Loop control\n",
    "    * break \n",
    "    * continue\n",
    "    * pass\n",
    "\n"
   ]
  },
  {
   "attachments": {},
   "cell_type": "markdown",
   "metadata": {},
   "source": [
    "* #### 1. While Loop: It execute the block of code within it, till the condition is `True`\n",
    "----"
   ]
  },
  {
   "cell_type": "code",
   "execution_count": 10,
   "metadata": {},
   "outputs": [
    {
     "name": "stdout",
     "output_type": "stream",
     "text": [
      "25\n",
      "26\n",
      "27\n",
      "28\n",
      "29\n",
      "30\n",
      "31\n",
      "32\n",
      "33\n",
      "34\n",
      "35\n",
      "36\n",
      "37\n",
      "38\n",
      "39\n",
      "40\n",
      "41\n",
      "42\n",
      "43\n",
      "44\n",
      "45\n",
      "46\n",
      "47\n",
      "48\n",
      "49\n",
      "50\n",
      "51\n",
      "52\n",
      "53\n",
      "54\n",
      "55\n",
      "56\n",
      "57\n",
      "58\n",
      "59\n",
      "60\n",
      "Now its time for Retirement\n"
     ]
    }
   ],
   "source": [
    "age = 25\n",
    "while(age <= 60):\n",
    "    print(age)\n",
    "    age+=1\n",
    "print(\"Now its time for Retirement\")"
   ]
  },
  {
   "cell_type": "code",
   "execution_count": 9,
   "metadata": {},
   "outputs": [
    {
     "name": "stdout",
     "output_type": "stream",
     "text": [
      "1000\n",
      "900\n",
      "800\n",
      "700\n",
      "600\n",
      "500\n",
      "400\n",
      "300\n",
      "200\n",
      "100\n",
      "Put some money in your bank\n"
     ]
    }
   ],
   "source": [
    "total_amt = 1000\n",
    "while total_amt != 0:\n",
    "    print(total_amt)\n",
    "    total_amt-=100\n",
    "else:\n",
    "    print(\"Put some money in your bank\")"
   ]
  },
  {
   "attachments": {},
   "cell_type": "markdown",
   "metadata": {},
   "source": [
    "* ##### 2. for loop: It is used to iterate through the list of elements. We will be using `for` loop in List, Sets, Dictionaries in futher uploads.\n",
    "---"
   ]
  },
  {
   "cell_type": "code",
   "execution_count": 12,
   "metadata": {},
   "outputs": [
    {
     "name": "stdout",
     "output_type": "stream",
     "text": [
      "ML\n",
      "Data Science\n",
      "Data Mining\n",
      "Blockchain\n",
      "AI\n"
     ]
    }
   ],
   "source": [
    "list = [\"ML\",\"Data Science\",\"Data Mining\",\"Blockchain\",\"AI\"]    #collection of elements\n",
    "\n",
    "for a in list:  #here `a` is the temporary variable which is used to iterate through the list and printing each element\n",
    "    print(a)"
   ]
  },
  {
   "cell_type": "code",
   "execution_count": 17,
   "metadata": {},
   "outputs": [
    {
     "name": "stdout",
     "output_type": "stream",
     "text": [
      "ML\n",
      "Data Science\n",
      "This is -> Data Mining\n",
      "Data Mining\n",
      "Blockchain\n",
      "AI\n"
     ]
    }
   ],
   "source": [
    "for x in list:\n",
    "    if x == \"Data Mining\":\n",
    "        print(\"This is -> Data Mining\")\n",
    "    print(x)\n"
   ]
  },
  {
   "cell_type": "code",
   "execution_count": 18,
   "metadata": {},
   "outputs": [
    {
     "name": "stdout",
     "output_type": "stream",
     "text": [
      "M\n",
      "a\n",
      "n\n",
      "g\n",
      "o\n"
     ]
    }
   ],
   "source": [
    "n = \"Mango\"  # As we know String is also a collection of elements.\n",
    "for i in n:\n",
    "    print(i)  # It prints each character of the String\n"
   ]
  },
  {
   "cell_type": "code",
   "execution_count": null,
   "metadata": {},
   "outputs": [],
   "source": []
  },
  {
   "attachments": {},
   "cell_type": "markdown",
   "metadata": {},
   "source": [
    "##### 2.1 Range Function: \n",
    "* It returns all the elements of a given range.\n",
    "* It takes total 3 parameters:\n",
    "    * Firstly, it takes the `Starting point`, if it is not mentioned then python starts with `0`.\n",
    "    * Secondly, it takes the `Ending point` and it print till `end-1` (excluding the end point) , if end point is not mentioned it becomes a infinite loop.\n",
    "    * Lastly is the `Steps`, it states that how many elements you want to skip or jump. By default the step size is `1` ."
   ]
  },
  {
   "cell_type": "code",
   "execution_count": 25,
   "metadata": {},
   "outputs": [
    {
     "name": "stdout",
     "output_type": "stream",
     "text": [
      "1 2 3 4 5 "
     ]
    }
   ],
   "source": [
    "for i in range(1,6):\n",
    "    print(i,end=\" \")    #here `end=\" \"` means after printing the element it will give a blank space instead of going to the next line."
   ]
  },
  {
   "cell_type": "code",
   "execution_count": 22,
   "metadata": {},
   "outputs": [
    {
     "name": "stdout",
     "output_type": "stream",
     "text": [
      "0 1 2 3 4 5 6 7 8 9 "
     ]
    }
   ],
   "source": [
    "for i in range(10):\n",
    "    print(i,end=\" \")"
   ]
  },
  {
   "cell_type": "code",
   "execution_count": 32,
   "metadata": {},
   "outputs": [
    {
     "name": "stdout",
     "output_type": "stream",
     "text": [
      "1 6 11 16 21 26 31 36 41 46 "
     ]
    }
   ],
   "source": [
    "# After printing the element, it skips the 5 element and then prints it and so on.\n",
    "for e in range(1,50,5):\n",
    "    print(e,end=\" \")"
   ]
  },
  {
   "attachments": {},
   "cell_type": "markdown",
   "metadata": {},
   "source": [
    "* #### 3. Nested loop: \n",
    "---"
   ]
  },
  {
   "cell_type": "code",
   "execution_count": null,
   "metadata": {},
   "outputs": [],
   "source": [
    "n=5\n",
    "j=0\n"
    "for i in range(n):",
    "for j in range(i+1):",
    "print("x",end=" ")",
    "print("\n")"
   ]
  },
  {
   "cell_type": "code",
   "execution_count": null,
   "metadata": {},
   "outputs": [],
   "source": []
  },
  {
   "attachments": {},
   "cell_type": "markdown",
   "metadata": {},
   "source": [
    "4. Loop Control: It is used to change the sequence of the current iteration.\n",
    "* **break statement:** When `break` statement is encountered, it immediately terminates the loop (comes out of that current loop) in which it is currently iterating it.\n",
    "\n",
    "* **continue statement:** When `continue` statement is encountered, it directly goes to the next iteration without executing the remaining statements. It returns to the starting point of the iteration.\n",
    "\n",
    "* **pass statement:** `pass` is a NULL Operation it does'nt do anything. As it is encountered it just goes to the next statement. It is mainly use in any function in hope of that it may be used in future.\n",
    "---"
   ]
  },
  {
   "cell_type": "code",
   "execution_count": 11,
   "metadata": {},
   "outputs": [
    {
     "name": "stdout",
     "output_type": "stream",
     "text": [
      "ML\n",
      "Data Science\n"
     ]
    }
   ],
   "source": [
    "# break \n",
    "list = [\"ML\",\"Data Science\",\"AI\",\"Blockchain\",\"Data Mining\"]\n",
    "for i in list:\n",
    "    if i == \"AI\":\n",
    "        break\n",
    "    print(i)"
   ]
  },
  {
   "cell_type": "code",
   "execution_count": 9,
   "metadata": {},
   "outputs": [
    {
     "name": "stdout",
     "output_type": "stream",
     "text": [
      "ML\n",
      "Data Science\n",
      "Blockchain\n",
      "Data Mining\n"
     ]
    }
   ],
   "source": [
    "# continue\n",
    "list = [\"ML\",\"Data Science\",\"AI\",\"Blockchain\",\"Data Mining\"]\n",
    "for i in list:\n",
    "    if i == \"AI\":\n",
    "        continue\n",
    "    print(i)"
   ]
  },
  {
   "cell_type": "code",
   "execution_count": 12,
   "metadata": {},
   "outputs": [
    {
     "name": "stdout",
     "output_type": "stream",
     "text": [
      "ML\n",
      "Data Science\n",
      "AI\n",
      "Blockchain\n",
      "Data Mining\n"
     ]
    }
   ],
   "source": [
    "# pass\n",
    "list = [\"ML\",\"Data Science\",\"AI\",\"Blockchain\",\"Data Mining\"]\n",
    "for i in list:\n",
    "    if i == \"AI\":\n",
    "        pass\n",
    "    print(i)\n"
   ]
  }
 ],
 "metadata": {
  "kernelspec": {
   "display_name": "Python 3",
   "language": "python",
   "name": "python3"
  },
  "language_info": {
   "codemirror_mode": {
    "name": "ipython",
    "version": 3
   },
   "file_extension": ".py",
   "mimetype": "text/x-python",
   "name": "python",
   "nbconvert_exporter": "python",
   "pygments_lexer": "ipython3",
   "version": "3.10.6"
  },
  "orig_nbformat": 4,
  "vscode": {
   "interpreter": {
    "hash": "a0024f5569284e2b511d8cb12062d37de04fed5a3682d14c56150c8974ce8587"
   }
  }
 },
 "nbformat": 4,
 "nbformat_minor": 2
}

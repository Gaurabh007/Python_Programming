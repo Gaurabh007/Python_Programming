{
 "cells": [
  {
   "attachments": {},
   "cell_type": "markdown",
   "metadata": {},
   "source": [
    "### Decorators\n",
    "* When we want to print some same line of code repeatedly, so it won't be feasible to keeping printing those lines and increasing the code length. Here the role of a Decorator comes into play.\n",
    "* *Decorator* as the name suggest to decorate the code within the program."
   ]
  },
  {
   "cell_type": "code",
   "execution_count": 3,
   "metadata": {},
   "outputs": [],
   "source": [
    "def test():  # this is the traditional way\n",
    "    print('Starting...')\n",
    "    print(4+5)\n",
    "    print('End')\n"
   ]
  },
  {
   "cell_type": "code",
   "execution_count": 4,
   "metadata": {},
   "outputs": [
    {
     "name": "stdout",
     "output_type": "stream",
     "text": [
      "Starting...\n",
      "9\n",
      "End\n"
     ]
    }
   ],
   "source": [
    "test()\n"
   ]
  },
  {
   "attachments": {},
   "cell_type": "markdown",
   "metadata": {},
   "source": [
    "* In the below code `dec()` is the decorator function which prints the sames line of code whenever called\n",
    "* Whenever it is invoked with a function the body of that remains same only the decorator function is added"
   ]
  },
  {
   "cell_type": "code",
   "execution_count": 5,
   "metadata": {},
   "outputs": [],
   "source": [
    "def dec(func):  # This is the decorator function\n",
    "    def inner_dec():\n",
    "        print('Starting...')\n",
    "        func()\n",
    "        print('End')\n",
    "    return inner_dec\n"
   ]
  },
  {
   "cell_type": "code",
   "execution_count": 9,
   "metadata": {},
   "outputs": [],
   "source": [
    "@dec  # decorate the test2 function with the dec function\n",
    "def test2():\n",
    "    print(7+7)\n"
   ]
  },
  {
   "cell_type": "code",
   "execution_count": 11,
   "metadata": {},
   "outputs": [
    {
     "name": "stdout",
     "output_type": "stream",
     "text": [
      "Starting...\n",
      "14\n",
      "End\n"
     ]
    }
   ],
   "source": [
    "test2()\n"
   ]
  },
  {
   "cell_type": "code",
   "execution_count": 16,
   "metadata": {},
   "outputs": [],
   "source": [
    "import time\n",
    "\n",
    "\n",
    "def dec1(func):\n",
    "    def timer_inner_dec():\n",
    "        start = time.time()\n",
    "        func()\n",
    "        end = time.time()\n",
    "        print(end - start)\n",
    "    return timer_inner_dec\n"
   ]
  },
  {
   "cell_type": "code",
   "execution_count": 27,
   "metadata": {},
   "outputs": [],
   "source": [
    "@dec1\n",
    "def test3():\n",
    "    for i in range(1000000000):\n",
    "        pass\n"
   ]
  },
  {
   "cell_type": "code",
   "execution_count": 28,
   "metadata": {},
   "outputs": [
    {
     "name": "stdout",
     "output_type": "stream",
     "text": [
      "22.593752145767212\n"
     ]
    }
   ],
   "source": [
    "test3()\n"
   ]
  },
  {
   "attachments": {},
   "cell_type": "markdown",
   "metadata": {},
   "source": [
    "### Class Methods\n",
    "* It help to overload `__init__` method."
   ]
  },
  {
   "cell_type": "code",
   "execution_count": 29,
   "metadata": {},
   "outputs": [],
   "source": [
    "class class1:\n",
    "    def __init__(self, name, mail):\n",
    "        self.name = name\n",
    "        self.mail = mail  # Instance Variable\n",
    "\n",
    "    def student_details(self):\n",
    "        print(self.name, self.mail)\n"
   ]
  },
  {
   "cell_type": "code",
   "execution_count": 31,
   "metadata": {},
   "outputs": [],
   "source": [
    "obj = class1('Gaurabh', 'asdf@gmail.com')\n"
   ]
  },
  {
   "cell_type": "code",
   "execution_count": 32,
   "metadata": {},
   "outputs": [
    {
     "data": {
      "text/plain": [
       "'Gaurabh'"
      ]
     },
     "execution_count": 32,
     "metadata": {},
     "output_type": "execute_result"
    }
   ],
   "source": [
    "obj.name\n"
   ]
  },
  {
   "cell_type": "code",
   "execution_count": 34,
   "metadata": {},
   "outputs": [
    {
     "name": "stdout",
     "output_type": "stream",
     "text": [
      "Gaurabh asdf@gmail.com\n"
     ]
    }
   ],
   "source": [
    "obj.student_details()\n"
   ]
  },
  {
   "cell_type": "code",
   "execution_count": 110,
   "metadata": {},
   "outputs": [],
   "source": [
    "class std_details:\n",
    "    def __init__(self, name, mail):\n",
    "        self.name = name\n",
    "        self.mail = mail\n",
    "\n",
    "    @classmethod  # In-built decorator\n",
    "    def details(cls, name1, mail1):\n",
    "        return cls(name1, mail1)\n",
    "\n",
    "    def student_details(self):\n",
    "        print(self.name, self.mail)\n"
   ]
  },
  {
   "cell_type": "code",
   "execution_count": 111,
   "metadata": {},
   "outputs": [],
   "source": [
    "# normally creating the object of the class\n",
    "obj_2 = std_details('Harsh', 'Hr@gmail.com')\n"
   ]
  },
  {
   "cell_type": "code",
   "execution_count": 113,
   "metadata": {},
   "outputs": [
    {
     "name": "stdout",
     "output_type": "stream",
     "text": [
      "Harsh Hr@gmail.com\n"
     ]
    }
   ],
   "source": [
    "obj_2.student_details()\n"
   ]
  },
  {
   "cell_type": "code",
   "execution_count": 41,
   "metadata": {},
   "outputs": [],
   "source": [
    "# creating object through class methods\n",
    "obj1 = std_details.details('Gaurav', 'gaurav@gmail.com')\n"
   ]
  },
  {
   "cell_type": "code",
   "execution_count": 56,
   "metadata": {},
   "outputs": [
    {
     "name": "stdout",
     "output_type": "stream",
     "text": [
      "Gaurav gaurav@gmail.com\n"
     ]
    }
   ],
   "source": [
    "obj1.student_details()\n"
   ]
  },
  {
   "cell_type": "code",
   "execution_count": 57,
   "metadata": {},
   "outputs": [
    {
     "data": {
      "text/plain": [
       "'Gaurav'"
      ]
     },
     "execution_count": 57,
     "metadata": {},
     "output_type": "execute_result"
    }
   ],
   "source": [
    "obj1.name\n"
   ]
  },
  {
   "attachments": {},
   "cell_type": "markdown",
   "metadata": {},
   "source": [
    "When we define a variable inside a method and want to access within the instance method, we can do it with the help of classname as follows:\n",
    ">                                   classname.variablename"
   ]
  },
  {
   "cell_type": "code",
   "execution_count": 71,
   "metadata": {},
   "outputs": [],
   "source": [
    "class std_details:\n",
    "\n",
    "    mobile_no = 9876544874\n",
    "\n",
    "    def __init__(self, name, mail):\n",
    "        self.name = name\n",
    "        self.mail = mail\n",
    "\n",
    "    @classmethod  # binding towards the class directly\n",
    "    def details(cls, name1, mail1):  # Class method\n",
    "        return cls(name1, mail1)\n",
    "\n",
    "    def student_details(self):  # Instance method\n",
    "        print(self.name, self.mail, std_details.mobile_no)\n"
   ]
  },
  {
   "cell_type": "code",
   "execution_count": 72,
   "metadata": {},
   "outputs": [
    {
     "data": {
      "text/plain": [
       "9876544874"
      ]
     },
     "execution_count": 72,
     "metadata": {},
     "output_type": "execute_result"
    }
   ],
   "source": [
    "std_details.mobile_no\n"
   ]
  },
  {
   "cell_type": "code",
   "execution_count": 73,
   "metadata": {},
   "outputs": [],
   "source": [
    "# creating object through classmethod\n",
    "cm_obj2 = std_details.details('gaurab', 'gb@gmail.com')\n"
   ]
  },
  {
   "cell_type": "code",
   "execution_count": 74,
   "metadata": {},
   "outputs": [
    {
     "name": "stdout",
     "output_type": "stream",
     "text": [
      "gaurab gb@gmail.com 9876544874\n"
     ]
    }
   ],
   "source": [
    "cm_obj2.student_details()\n"
   ]
  },
  {
   "cell_type": "code",
   "execution_count": 69,
   "metadata": {},
   "outputs": [
    {
     "name": "stdout",
     "output_type": "stream",
     "text": [
      "sourav sv@gmail.com 9876544874\n"
     ]
    }
   ],
   "source": [
    "obj2 = std_details('sourav', 'sv@gmail.com')  # creating object through class\n",
    "obj2.student_details()\n"
   ]
  },
  {
   "cell_type": "code",
   "execution_count": 76,
   "metadata": {},
   "outputs": [],
   "source": [
    "class std_details1:\n",
    "\n",
    "    mobile_no = 9876544874\n",
    "\n",
    "    def __init__(self, name, mail):\n",
    "        self.name = name\n",
    "        self.mail = mail\n",
    "\n",
    "    @classmethod\n",
    "    def change_number(cls, mobile):  # changing the mobile number\n",
    "        std_details1.mobile_no = mobile\n",
    "\n",
    "    @classmethod\n",
    "    def details(cls, name1, mail1):  # Class method\n",
    "        return cls(name1, mail1)\n",
    "\n",
    "    def student_details(self):  # Instance method\n",
    "        print(self.name, self.mail, std_details.mobile_no)\n"
   ]
  },
  {
   "cell_type": "code",
   "execution_count": 81,
   "metadata": {},
   "outputs": [],
   "source": [
    "std_obj = std_details1('arun', 'ar@gmail.com')\n"
   ]
  },
  {
   "cell_type": "code",
   "execution_count": 82,
   "metadata": {},
   "outputs": [
    {
     "name": "stdout",
     "output_type": "stream",
     "text": [
      "arun ar@gmail.com 9876544874\n"
     ]
    }
   ],
   "source": [
    "std_obj.student_details()\n"
   ]
  },
  {
   "cell_type": "code",
   "execution_count": 77,
   "metadata": {},
   "outputs": [
    {
     "data": {
      "text/plain": [
       "9876544874"
      ]
     },
     "execution_count": 77,
     "metadata": {},
     "output_type": "execute_result"
    }
   ],
   "source": [
    "std_details1.mobile_no  # original number\n"
   ]
  },
  {
   "cell_type": "code",
   "execution_count": 78,
   "metadata": {},
   "outputs": [],
   "source": [
    "std_details1.change_number(12345678910)\n"
   ]
  },
  {
   "cell_type": "code",
   "execution_count": 79,
   "metadata": {},
   "outputs": [
    {
     "data": {
      "text/plain": [
       "12345678910"
      ]
     },
     "execution_count": 79,
     "metadata": {},
     "output_type": "execute_result"
    }
   ],
   "source": [
    "std_details1.mobile_no  # modified number\n"
   ]
  },
  {
   "attachments": {},
   "cell_type": "markdown",
   "metadata": {},
   "source": [
    "If we want to add a external function to my class we can do it with the help of class method"
   ]
  },
  {
   "cell_type": "code",
   "execution_count": 83,
   "metadata": {},
   "outputs": [],
   "source": [
    "class std_details2:\n",
    "\n",
    "    mobile_no = 9876544874\n",
    "\n",
    "    def __init__(self, name, mail):\n",
    "        self.name = name\n",
    "        self.mail = mail\n",
    "\n",
    "    @classmethod\n",
    "    def change_number(cls, mobile):\n",
    "        std_details1.mobile_no = mobile\n",
    "\n",
    "    @classmethod\n",
    "    def details(cls, name1, mail1):\n",
    "        return cls(name1, mail1)\n",
    "\n",
    "    def student_details(self):\n",
    "        print(self.name, self.mail, std_details.mobile_no)\n"
   ]
  },
  {
   "cell_type": "code",
   "execution_count": 84,
   "metadata": {},
   "outputs": [],
   "source": [
    "def course_detail(cls, c_name):\n",
    "    print('Course Details: ', c_name)\n"
   ]
  },
  {
   "cell_type": "code",
   "execution_count": 85,
   "metadata": {},
   "outputs": [],
   "source": [
    "std_details2.course_detail = classmethod(\n",
    "    course_detail)  # adding a function to the class\n"
   ]
  },
  {
   "cell_type": "code",
   "execution_count": 87,
   "metadata": {},
   "outputs": [
    {
     "name": "stdout",
     "output_type": "stream",
     "text": [
      "Course Details:  Data Science\n"
     ]
    }
   ],
   "source": [
    "std_details2.course_detail('Data Science')  # accessing the added method\n"
   ]
  },
  {
   "cell_type": "code",
   "execution_count": 89,
   "metadata": {},
   "outputs": [],
   "source": [
    "obj4 = std_details2('Gaurabh', 'gaurav@gmail.com')\n"
   ]
  },
  {
   "cell_type": "code",
   "execution_count": 90,
   "metadata": {},
   "outputs": [
    {
     "name": "stdout",
     "output_type": "stream",
     "text": [
      "Course Details:  Web dev\n"
     ]
    }
   ],
   "source": [
    "# accessing the added method through class object\n",
    "obj4.course_detail('Web dev')\n"
   ]
  },
  {
   "attachments": {},
   "cell_type": "markdown",
   "metadata": {},
   "source": [
    "When we want to delete a function from the class"
   ]
  },
  {
   "cell_type": "code",
   "execution_count": 97,
   "metadata": {},
   "outputs": [],
   "source": [
    "class std_details3:\n",
    "\n",
    "    mobile_no = 9876544874\n",
    "\n",
    "    def __init__(self, name, mail):\n",
    "        self.name = name\n",
    "        self.mail = mail\n",
    "\n",
    "    @classmethod\n",
    "    def change_number(cls, mobile):\n",
    "        std_details1.mobile_no = mobile\n",
    "\n",
    "    @classmethod\n",
    "    def details(cls, name1, mail1):\n",
    "        return cls(name1, mail1)\n",
    "\n",
    "    def student_details(self):\n",
    "        print(self.name, self.mail, std_details.mobile_no)\n"
   ]
  },
  {
   "cell_type": "code",
   "execution_count": 99,
   "metadata": {},
   "outputs": [],
   "source": [
    "del std_details3.change_number  # deleting change_number function\n"
   ]
  },
  {
   "cell_type": "code",
   "execution_count": 100,
   "metadata": {},
   "outputs": [
    {
     "ename": "AttributeError",
     "evalue": "type object 'std_details3' has no attribute 'change_number'",
     "output_type": "error",
     "traceback": [
      "\u001b[1;31m---------------------------------------------------------------------------\u001b[0m",
      "\u001b[1;31mAttributeError\u001b[0m                            Traceback (most recent call last)",
      "Cell \u001b[1;32mIn[100], line 1\u001b[0m\n\u001b[1;32m----> 1\u001b[0m std_details3\u001b[39m.\u001b[39;49mchange_number      \u001b[39m#change_number function is not avaliable\u001b[39;00m\n",
      "\u001b[1;31mAttributeError\u001b[0m: type object 'std_details3' has no attribute 'change_number'"
     ]
    }
   ],
   "source": [
    "std_details3.change_number  # change_number function is not avaliable\n"
   ]
  },
  {
   "cell_type": "code",
   "execution_count": 102,
   "metadata": {},
   "outputs": [],
   "source": [
    "# Another way\n",
    "delattr(std_details3, 'details')  # using delattr function to delete details\n"
   ]
  },
  {
   "cell_type": "code",
   "execution_count": 104,
   "metadata": {},
   "outputs": [
    {
     "ename": "AttributeError",
     "evalue": "type object 'std_details3' has no attribute 'details'",
     "output_type": "error",
     "traceback": [
      "\u001b[1;31m---------------------------------------------------------------------------\u001b[0m",
      "\u001b[1;31mAttributeError\u001b[0m                            Traceback (most recent call last)",
      "Cell \u001b[1;32mIn[104], line 1\u001b[0m\n\u001b[1;32m----> 1\u001b[0m std_details3\u001b[39m.\u001b[39;49mdetails\n",
      "\u001b[1;31mAttributeError\u001b[0m: type object 'std_details3' has no attribute 'details'"
     ]
    }
   ],
   "source": [
    "std_details3.details\n"
   ]
  },
  {
   "cell_type": "code",
   "execution_count": 107,
   "metadata": {},
   "outputs": [],
   "source": [
    "std3_obj = std_details3('Umesh', 'UM@gmail.com')\n"
   ]
  },
  {
   "cell_type": "code",
   "execution_count": 108,
   "metadata": {},
   "outputs": [
    {
     "name": "stdout",
     "output_type": "stream",
     "text": [
      "Umesh UM@gmail.com 9876544874\n"
     ]
    }
   ],
   "source": [
    "std3_obj.student_details()\n"
   ]
  },
  {
   "attachments": {},
   "cell_type": "markdown",
   "metadata": {},
   "source": [
    "### Static Method:\n",
    "* When we want to save the memory by not creating multiple object of the class we use static methods.\n",
    "* In a static method `self` is not required.\n",
    "* We can call a static method directly through a class.\n",
    "* Static method is used when we don't want to create multiple instances of the function.\n",
    "* In the below example, student_detail function takes the details of student so there can be multiple students but in case of mentor they are going to be fixed so we defined it as static methods."
   ]
  },
  {
   "cell_type": "code",
   "execution_count": 8,
   "metadata": {},
   "outputs": [],
   "source": [
    "class skills:\n",
    "    def student_detail(self, name, mail, number):\n",
    "        print(name, mail, number)\n",
    "\n",
    "    @staticmethod\n",
    "    def mentor_class(list_mentor):\n",
    "        print(list_mentor)\n"
   ]
  },
  {
   "cell_type": "code",
   "execution_count": 9,
   "metadata": {},
   "outputs": [],
   "source": [
    "sk = skills()\n"
   ]
  },
  {
   "cell_type": "code",
   "execution_count": 10,
   "metadata": {},
   "outputs": [
    {
     "name": "stdout",
     "output_type": "stream",
     "text": [
      "Gaurabh Gaurav@gmail.com 987465132\n"
     ]
    }
   ],
   "source": [
    "sk.student_detail('Gaurabh', 'Gaurav@gmail.com', 987465132)\n"
   ]
  },
  {
   "cell_type": "code",
   "execution_count": 11,
   "metadata": {},
   "outputs": [
    {
     "name": "stdout",
     "output_type": "stream",
     "text": [
      "['sudh', 'krish']\n"
     ]
    }
   ],
   "source": [
    "skills.mentor_class(['sudh', 'krish'])\n"
   ]
  },
  {
   "attachments": {},
   "cell_type": "markdown",
   "metadata": {},
   "source": [
    "##### Accessing the static method:\n",
    "1. Within a Instance method\n",
    "2. Within a Class method\n",
    "3. Within a Static method"
   ]
  },
  {
   "cell_type": "code",
   "execution_count": 78,
   "metadata": {},
   "outputs": [],
   "source": [
    "class admission:\n",
    "    def student_detail(self, name, mail, number):\n",
    "        print(name, mail, number)\n",
    "        \n",
    "    @staticmethod\n",
    "    def mentor_mail_id(mail_id):\n",
    "        print(mail_id)\n",
    "\n",
    "    @staticmethod\n",
    "    def mentor_class(list_mentor):                      #Static Method\n",
    "        print(list_mentor)\n",
    "        admission.mentor_mail_id(['kris@gmail.com','sudh@gmail.com'])   #accessing a static method within a static method\n",
    "\n",
    "    @classmethod\n",
    "    def class_name(cls,class_name):                     #Class Method\n",
    "        print(class_name)\n",
    "        cls.mentor_class(['Krish','sudhanshu'])     #accesing a static method from a class method\n",
    "\n",
    "    def mentor_subject(self,list_sub_mentor):           #Instance Method\n",
    "        print(list_sub_mentor)\n",
    "        self.mentor_class(['Krish','sudhanshu'])   #accessing a static method within a instance method\n"
   ]
  },
  {
   "cell_type": "code",
   "execution_count": 72,
   "metadata": {},
   "outputs": [],
   "source": [
    "ad = admission()"
   ]
  },
  {
   "cell_type": "code",
   "execution_count": 73,
   "metadata": {},
   "outputs": [
    {
     "name": "stdout",
     "output_type": "stream",
     "text": [
      "Gaurabh gb@gmail.com 9879784656\n"
     ]
    }
   ],
   "source": [
    "ad.student_detail('Gaurabh','gb@gmail.com',9879784656)"
   ]
  },
  {
   "cell_type": "code",
   "execution_count": 74,
   "metadata": {},
   "outputs": [
    {
     "name": "stdout",
     "output_type": "stream",
     "text": [
      "['kris@gmail.com', 'sudh@gmail.com']\n"
     ]
    }
   ],
   "source": [
    "ad.mentor_mail_id(['kris@gmail.com','sudh@gmail.com'])"
   ]
  },
  {
   "cell_type": "code",
   "execution_count": 75,
   "metadata": {},
   "outputs": [
    {
     "name": "stdout",
     "output_type": "stream",
     "text": [
      "['Krish', 'sudhanshu']\n",
      "['kris@gmail.com', 'sudh@gmail.com']\n"
     ]
    }
   ],
   "source": [
    "ad.mentor_class(['Krish','sudhanshu'])"
   ]
  },
  {
   "cell_type": "code",
   "execution_count": 76,
   "metadata": {},
   "outputs": [
    {
     "name": "stdout",
     "output_type": "stream",
     "text": [
      "['Python Basics', 'Pandas Basics']\n",
      "['Krish', 'sudhanshu']\n",
      "['kris@gmail.com', 'sudh@gmail.com']\n"
     ]
    }
   ],
   "source": [
    "ad.class_name(['Python Basics','Pandas Basics'])"
   ]
  },
  {
   "cell_type": "code",
   "execution_count": 77,
   "metadata": {},
   "outputs": [
    {
     "name": "stdout",
     "output_type": "stream",
     "text": [
      "Data Science Master\n",
      "['Krish', 'sudhanshu']\n",
      "['kris@gmail.com', 'sudh@gmail.com']\n"
     ]
    }
   ],
   "source": [
    "ad.mentor_subject('Data Science Master')"
   ]
  },
  {
   "attachments": {},
   "cell_type": "markdown",
   "metadata": {},
   "source": [
    "### Property Decorator\n",
    "* When we want to expose the private or protected variable to the outer world we can do it with the help of `@property` Decorator.\n",
    "* It is used when we want to express the property of the class."
   ]
  },
  {
   "cell_type": "code",
   "execution_count": 20,
   "metadata": {},
   "outputs": [],
   "source": [
    "class Rectangle:\n",
    "    def __init__(self,length,breadth,diagonal):\n",
    "        self.__diagonal = diagonal\n",
    "        self.length = length          \n",
    "        self.breadth = breadth\n",
    "    \n",
    "    @property                  \n",
    "    def area(self):\n",
    "        return self.__diagonal\n"
   ]
  },
  {
   "cell_type": "code",
   "execution_count": 21,
   "metadata": {},
   "outputs": [],
   "source": [
    "rec = Rectangle(15,20,10)"
   ]
  },
  {
   "cell_type": "code",
   "execution_count": 22,
   "metadata": {},
   "outputs": [
    {
     "data": {
      "text/plain": [
       "10"
      ]
     },
     "execution_count": 22,
     "metadata": {},
     "output_type": "execute_result"
    }
   ],
   "source": [
    "rec.area"
   ]
  },
  {
   "cell_type": "code",
   "execution_count": 15,
   "metadata": {},
   "outputs": [
    {
     "data": {
      "text/plain": [
       "20"
      ]
     },
     "execution_count": 15,
     "metadata": {},
     "output_type": "execute_result"
    }
   ],
   "source": [
    "rec.breadth"
   ]
  },
  {
   "cell_type": "code",
   "execution_count": 17,
   "metadata": {},
   "outputs": [
    {
     "data": {
      "text/plain": [
       "10"
      ]
     },
     "execution_count": 17,
     "metadata": {},
     "output_type": "execute_result"
    }
   ],
   "source": [
    "rec._Rectangle__diagonal        #this is only applicable to the programmer"
   ]
  },
  {
   "cell_type": "code",
   "execution_count": 64,
   "metadata": {},
   "outputs": [],
   "source": [
    "# How can we give the user the access to modify the private variables\n",
    "class Rectangle1:\n",
    "    def __init__(self,length,breadth,area):\n",
    "        self.__area = area                          #Private Variable\n",
    "        self.length = length          \n",
    "        self.breadth = breadth\n",
    "        # self._surface_area = surface_area         #Proctected Variable\n",
    "    \n",
    "    @property                  \n",
    "    def area(self):\n",
    "        return self.__area\n",
    "\n",
    "    @area.setter\n",
    "    def area_set(self,a):            #Setter \n",
    "        if a <= 10:\n",
    "            pass\n",
    "        else:\n",
    "            self.__area = a\n",
    "\n",
    "    @area.deleter                   # Deleter\n",
    "    def area_delete(self):\n",
    "        del self.__area"
   ]
  },
  {
   "attachments": {},
   "cell_type": "markdown",
   "metadata": {},
   "source": [
    "* Here in the above class if any external user wants to set tht private variable it can do it with the help of setters which is here `area_set`"
   ]
  },
  {
   "cell_type": "code",
   "execution_count": 65,
   "metadata": {},
   "outputs": [],
   "source": [
    "rec1 = Rectangle1(15,30,20)"
   ]
  },
  {
   "cell_type": "code",
   "execution_count": 56,
   "metadata": {},
   "outputs": [
    {
     "data": {
      "text/plain": [
       "15"
      ]
     },
     "execution_count": 56,
     "metadata": {},
     "output_type": "execute_result"
    }
   ],
   "source": [
    "rec1.length"
   ]
  },
  {
   "cell_type": "code",
   "execution_count": 62,
   "metadata": {},
   "outputs": [
    {
     "data": {
      "text/plain": [
       "20"
      ]
     },
     "execution_count": 62,
     "metadata": {},
     "output_type": "execute_result"
    }
   ],
   "source": [
    "rec1.area"
   ]
  },
  {
   "cell_type": "code",
   "execution_count": 59,
   "metadata": {},
   "outputs": [],
   "source": [
    "rec1.area_set = 72      #setting the area varaiable"
   ]
  },
  {
   "cell_type": "code",
   "execution_count": 53,
   "metadata": {},
   "outputs": [
    {
     "data": {
      "text/plain": [
       "72"
      ]
     },
     "execution_count": 53,
     "metadata": {},
     "output_type": "execute_result"
    }
   ],
   "source": [
    "rec1.area"
   ]
  },
  {
   "attachments": {},
   "cell_type": "markdown",
   "metadata": {},
   "source": [
    "Now if we want to delete the private variable of the class we use the `deleter`."
   ]
  },
  {
   "cell_type": "code",
   "execution_count": 66,
   "metadata": {},
   "outputs": [],
   "source": [
    "del rec1.area_delete    #here the area attribute is deleted"
   ]
  },
  {
   "cell_type": "code",
   "execution_count": 67,
   "metadata": {},
   "outputs": [
    {
     "ename": "AttributeError",
     "evalue": "'Rectangle1' object has no attribute '_Rectangle1__area'",
     "output_type": "error",
     "traceback": [
      "\u001b[1;31m---------------------------------------------------------------------------\u001b[0m",
      "\u001b[1;31mAttributeError\u001b[0m                            Traceback (most recent call last)",
      "Cell \u001b[1;32mIn[67], line 1\u001b[0m\n\u001b[1;32m----> 1\u001b[0m rec1\u001b[39m.\u001b[39;49marea\n",
      "Cell \u001b[1;32mIn[64], line 10\u001b[0m, in \u001b[0;36mRectangle1.area\u001b[1;34m(self)\u001b[0m\n\u001b[0;32m      8\u001b[0m \u001b[39m@property\u001b[39m                  \n\u001b[0;32m      9\u001b[0m \u001b[39mdef\u001b[39;00m \u001b[39marea\u001b[39m(\u001b[39mself\u001b[39m):\n\u001b[1;32m---> 10\u001b[0m     \u001b[39mreturn\u001b[39;00m \u001b[39mself\u001b[39;49m\u001b[39m.\u001b[39;49m__area\n",
      "\u001b[1;31mAttributeError\u001b[0m: 'Rectangle1' object has no attribute '_Rectangle1__area'"
     ]
    }
   ],
   "source": [
    "rec1.area"
   ]
  },
  {
   "cell_type": "code",
   "execution_count": null,
   "metadata": {},
   "outputs": [],
   "source": []
  }
 ],
 "metadata": {
  "kernelspec": {
   "display_name": "Python 3",
   "language": "python",
   "name": "python3"
  },
  "language_info": {
   "codemirror_mode": {
    "name": "ipython",
    "version": 3
   },
   "file_extension": ".py",
   "mimetype": "text/x-python",
   "name": "python",
   "nbconvert_exporter": "python",
   "pygments_lexer": "ipython3",
   "version": "3.11.2"
  },
  "orig_nbformat": 4,
  "vscode": {
   "interpreter": {
    "hash": "bf2765f521931e2f19f12976575e4735ff3b02b38699a1c8a104e77ac4d978bc"
   }
  }
 },
 "nbformat": 4,
 "nbformat_minor": 2
}
